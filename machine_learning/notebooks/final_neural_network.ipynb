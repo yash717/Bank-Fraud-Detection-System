{
 "cells": [
  {
   "cell_type": "code",
   "execution_count": 1,
   "metadata": {},
   "outputs": [],
   "source": [
    "# Import necessary libraries\n",
    "import pandas as pd\n",
    "import numpy as np\n",
    "import matplotlib.pyplot as plt\n",
    "import seaborn as sns\n",
    "from sklearn.model_selection import train_test_split\n",
    "from sklearn.preprocessing import StandardScaler\n",
    "from sklearn.metrics import accuracy_score, confusion_matrix, classification_report\n",
    "from tensorflow import keras\n",
    "from tensorflow.keras import layers\n",
    "import pickle"
   ]
  },
  {
   "cell_type": "code",
   "execution_count": 2,
   "metadata": {},
   "outputs": [],
   "source": [
    "# Load the dataset\n",
    "file_path = '../data/transaction_detail.csv'\n",
    "df = pd.read_csv(file_path)\n",
    "\n",
    "# Extract relevant columns\n",
    "selected_columns = ['Transaction_Amount', 'Session_Duration', 'Frequency_of_Transactions', \n",
    "                     'Unusual_Time_of_Transaction', 'Unusual_Transaction_Amounts', 'Fraud_Label']\n",
    "selected_df = df[selected_columns]\n",
    "\n",
    "# Split the data into features (X) and target variable (y)\n",
    "X = selected_df.drop('Fraud_Label', axis=1)\n",
    "y = selected_df['Fraud_Label']"
   ]
  },
  {
   "cell_type": "code",
   "execution_count": 3,
   "metadata": {},
   "outputs": [],
   "source": [
    "# Extract numerical values from 'Session_Duration' column\n",
    "X['Session_Duration'] = X['Session_Duration'].str.extract('(\\d+)').astype(float)\n",
    "\n",
    "# Split the data into training and testing sets\n",
    "X_train, X_test, y_train, y_test = train_test_split(X, y, test_size=0.2, random_state=42)\n",
    "\n",
    "# Standardize the input features\n",
    "scaler = StandardScaler()\n",
    "X_train_scaled = scaler.fit_transform(X_train)\n",
    "X_test_scaled = scaler.transform(X_test)\n"
   ]
  },
  {
   "cell_type": "code",
   "execution_count": 4,
   "metadata": {},
   "outputs": [],
   "source": [
    "# Build the neural network model\n",
    "model_nn = keras.Sequential([\n",
    "    layers.Dense(64, activation='relu', input_shape=(X_train_scaled.shape[1],)),\n",
    "    layers.Dense(32, activation='relu'),\n",
    "    layers.Dense(16, activation='relu'),\n",
    "    layers.Dense(8, activation='relu'),\n",
    "    layers.Dense(1, activation='sigmoid')\n",
    "])"
   ]
  },
  {
   "cell_type": "code",
   "execution_count": 5,
   "metadata": {},
   "outputs": [
    {
     "name": "stdout",
     "output_type": "stream",
     "text": [
      "Epoch 1/10\n",
      "2/2 - 1s - loss: 0.6891 - accuracy: 0.7000 - val_loss: 0.5941 - val_accuracy: 0.6364 - 1s/epoch - 692ms/step\n",
      "Epoch 2/10\n",
      "2/2 - 0s - loss: 0.6574 - accuracy: 0.7000 - val_loss: 0.5715 - val_accuracy: 0.6364 - 39ms/epoch - 19ms/step\n",
      "Epoch 3/10\n",
      "2/2 - 0s - loss: 0.6292 - accuracy: 0.7000 - val_loss: 0.5495 - val_accuracy: 0.7273 - 41ms/epoch - 21ms/step\n",
      "Epoch 4/10\n",
      "2/2 - 0s - loss: 0.5993 - accuracy: 0.7500 - val_loss: 0.5301 - val_accuracy: 0.7273 - 56ms/epoch - 28ms/step\n",
      "Epoch 5/10\n",
      "2/2 - 0s - loss: 0.5776 - accuracy: 0.8000 - val_loss: 0.5117 - val_accuracy: 0.8182 - 42ms/epoch - 21ms/step\n",
      "Epoch 6/10\n",
      "2/2 - 0s - loss: 0.5543 - accuracy: 0.8250 - val_loss: 0.4932 - val_accuracy: 0.9091 - 46ms/epoch - 23ms/step\n",
      "Epoch 7/10\n",
      "2/2 - 0s - loss: 0.5308 - accuracy: 0.8250 - val_loss: 0.4761 - val_accuracy: 0.9091 - 41ms/epoch - 21ms/step\n",
      "Epoch 8/10\n",
      "2/2 - 0s - loss: 0.5093 - accuracy: 0.8500 - val_loss: 0.4585 - val_accuracy: 0.9091 - 41ms/epoch - 20ms/step\n",
      "Epoch 9/10\n",
      "2/2 - 0s - loss: 0.4868 - accuracy: 0.8500 - val_loss: 0.4412 - val_accuracy: 0.9091 - 39ms/epoch - 19ms/step\n",
      "Epoch 10/10\n",
      "2/2 - 0s - loss: 0.4660 - accuracy: 0.8750 - val_loss: 0.4239 - val_accuracy: 0.9091 - 89ms/epoch - 45ms/step\n"
     ]
    }
   ],
   "source": [
    "# Compile the model\n",
    "model_nn.compile(optimizer='adam', loss='binary_crossentropy', metrics=['accuracy'])\n",
    "\n",
    "# Train the model\n",
    "history_nn = model_nn.fit(X_train_scaled, y_train, epochs=10, batch_size=32, validation_split=0.2, verbose=2)\n"
   ]
  },
  {
   "cell_type": "code",
   "execution_count": 6,
   "metadata": {},
   "outputs": [],
   "source": [
    "# Save the model to a pickle file\n",
    "with open('neural_network_model.pkl', 'wb') as model_file:\n",
    "    pickle.dump(model_nn, model_file)"
   ]
  },
  {
   "cell_type": "code",
   "execution_count": 7,
   "metadata": {},
   "outputs": [
    {
     "name": "stdout",
     "output_type": "stream",
     "text": [
      "1/1 [==============================] - 0s 193ms/step\n"
     ]
    }
   ],
   "source": [
    "# Evaluate the model on the test set\n",
    "y_pred_nn = (model_nn.predict(X_test_scaled) > 0.5).astype(\"int32\")"
   ]
  },
  {
   "cell_type": "code",
   "execution_count": 8,
   "metadata": {},
   "outputs": [],
   "source": [
    "# Print accuracy and other metrics\n",
    "accuracy_nn = accuracy_score(y_test, y_pred_nn)\n",
    "conf_matrix_nn = confusion_matrix(y_test, y_pred_nn)\n",
    "class_report_nn = classification_report(y_test, y_pred_nn)\n"
   ]
  },
  {
   "cell_type": "code",
   "execution_count": 9,
   "metadata": {},
   "outputs": [
    {
     "name": "stdout",
     "output_type": "stream",
     "text": [
      "Neural Network Accuracy: 0.8461538461538461\n",
      "Neural Network Confusion Matrix:\n",
      " [[10  0]\n",
      " [ 2  1]]\n",
      "Neural Network Classification Report:\n",
      "               precision    recall  f1-score   support\n",
      "\n",
      "           0       0.83      1.00      0.91        10\n",
      "           1       1.00      0.33      0.50         3\n",
      "\n",
      "    accuracy                           0.85        13\n",
      "   macro avg       0.92      0.67      0.70        13\n",
      "weighted avg       0.87      0.85      0.81        13\n",
      "\n"
     ]
    }
   ],
   "source": [
    "print(f\"Neural Network Accuracy: {accuracy_nn}\")\n",
    "print(\"Neural Network Confusion Matrix:\\n\", conf_matrix_nn)\n",
    "print(\"Neural Network Classification Report:\\n\", class_report_nn)\n"
   ]
  },
  {
   "cell_type": "code",
   "execution_count": 10,
   "metadata": {},
   "outputs": [
    {
     "data": {
      "image/png": "[encoded data removed]",
      "text/plain": [
       "<Figure size 1200x600 with 1 Axes>"
      ]
     },
     "metadata": {},
     "output_type": "display_data"
    }
   ],
   "source": [
    "# Plot training history\n",
    "plt.figure(figsize=(12, 6))\n",
    "plt.plot(history_nn.history['accuracy'], label='Train Accuracy')\n",
    "plt.plot(history_nn.history['val_accuracy'], label='Validation Accuracy')\n",
    "plt.title('Training History (Neural Network)')\n",
    "plt.xlabel('Epochs')\n",
    "plt.ylabel('Accuracy')\n",
    "plt.legend()\n",
    "plt.show()"
   ]
  },
  {
   "cell_type": "code",
   "execution_count": 11,
   "metadata": {},
   "outputs": [],
   "source": [
    "# Load the model from the pickle file\n",
    "with open('neural_network_model.pkl', 'rb') as model_file:\n",
    "    loaded_model_nn = pickle.load(model_file)"
   ]
  },
  {
   "cell_type": "code",
   "execution_count": 12,
   "metadata": {},
   "outputs": [],
   "source": [
    "new_input_data = {\n",
    "    'Transaction_Amount': [1500],\n",
    "    'Session_Duration': [500],\n",
    "    'Frequency_of_Transactions': [7],\n",
    "    'Unusual_Time_of_Transaction': [0],\n",
    "    'Unusual_Transaction_Amounts': [0]\n",
    "}"
   ]
  },
  {
   "cell_type": "code",
   "execution_count": 13,
   "metadata": {},
   "outputs": [],
   "source": [
    "new_input = pd.DataFrame(new_input_data)\n"
   ]
  },
  {
   "cell_type": "code",
   "execution_count": 14,
   "metadata": {},
   "outputs": [
    {
     "name": "stdout",
     "output_type": "stream",
     "text": [
      "1/1 [==============================] - 0s 161ms/step\n"
     ]
    }
   ],
   "source": [
    "new_input_scaled = scaler.transform(new_input)\n",
    "new_input_prediction = (loaded_model_nn.predict(new_input_scaled) > 0.5).astype(\"int32\")\n",
    "\n"
   ]
  },
  {
   "cell_type": "code",
   "execution_count": 15,
   "metadata": {},
   "outputs": [
    {
     "name": "stdout",
     "output_type": "stream",
     "text": [
      "Neural Network Fraud Prediction for New Input: [[0]]\n"
     ]
    }
   ],
   "source": [
    "print(f\"Neural Network Fraud Prediction for New Input: {new_input_prediction}\")\n"
   ]
  }
 ],
 "metadata": {
  "kernelspec": {
   "display_name": "Python 3",
   "language": "python",
   "name": "python3"
  },
  "language_info": {
   "codemirror_mode": {
    "name": "ipython",
    "version": 3
   },
   "file_extension": ".py",
   "mimetype": "text/x-python",
   "name": "python",
   "nbconvert_exporter": "python",
   "pygments_lexer": "ipython3",
   "version": "3.11.4"
  }
 },
 "nbformat": 4,
 "nbformat_minor": 2
}

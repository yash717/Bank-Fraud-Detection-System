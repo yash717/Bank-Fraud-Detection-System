{
 "cells": [
  {
   "cell_type": "code",
   "execution_count": 87,
   "metadata": {},
   "outputs": [],
   "source": [
    "import pandas as pd\n",
    "from sklearn.model_selection import train_test_split\n",
    "from sklearn.preprocessing import LabelEncoder\n",
    "from xgboost import XGBClassifier\n",
    "from sklearn.metrics import accuracy_score, classification_report\n",
    "from imblearn.over_sampling import SMOTE\n",
    "import matplotlib.pyplot as plt\n",
    "import seaborn as sns\n",
    "from sklearn.model_selection import GridSearchCV\n",
    "\n",
    "\n"
   ]
  },
  {
   "cell_type": "code",
   "execution_count": 88,
   "metadata": {},
   "outputs": [],
   "source": [
    "data = pd.read_csv('../data/transaction_detail.csv')  # Replace 'your_dataset.csv' with your actual file path\n",
    "\n",
    "# Drop unnecessary columns\n",
    "data = data.drop([\"Transaction_ID\", \"Account_Creation_Date\"], axis=1)\n",
    "\n"
   ]
  },
  {
   "cell_type": "code",
   "execution_count": 89,
   "metadata": {},
   "outputs": [
    {
     "name": "stdout",
     "output_type": "stream",
     "text": [
      "<class 'pandas.core.frame.DataFrame'>\n",
      "RangeIndex: 64 entries, 0 to 63\n",
      "Data columns (total 15 columns):\n",
      " #   Column                       Non-Null Count  Dtype  \n",
      "---  ------                       --------------  -----  \n",
      " 0   Transaction_Amount           64 non-null     float64\n",
      " 1   Transaction_Date             64 non-null     object \n",
      " 2   Transaction_Time             64 non-null     object \n",
      " 3   User_Account_ID              64 non-null     int64  \n",
      " 4   Payment_Method               64 non-null     object \n",
      " 5   Billing_Location             64 non-null     object \n",
      " 6   Shipping_Location            64 non-null     object \n",
      " 7   Device_IP_Address            64 non-null     object \n",
      " 8   Session_Duration             64 non-null     object \n",
      " 9   Frequency_of_Transactions    64 non-null     int64  \n",
      " 10  Time_Between_Transactions    64 non-null     object \n",
      " 11  Unusual_Time_of_Transaction  64 non-null     int64  \n",
      " 12  Unusual_Transaction_Amounts  64 non-null     int64  \n",
      " 13  IP_Address_History           64 non-null     object \n",
      " 14  Fraud_Label                  64 non-null     int64  \n",
      "dtypes: float64(1), int64(5), object(9)\n",
      "memory usage: 7.6+ KB\n",
      "None\n",
      "       Transaction_Amount  User_Account_ID  Frequency_of_Transactions  \\\n",
      "count           64.000000        64.000000                  64.000000   \n",
      "mean         22882.565625       139.250000                   7.484375   \n",
      "std          39853.474630        20.586635                   1.718177   \n",
      "min            100.250000       101.000000                   2.000000   \n",
      "25%           1352.837500       124.750000                   6.000000   \n",
      "50%           4196.950000       140.500000                   8.000000   \n",
      "75%          13430.400000       156.250000                   9.000000   \n",
      "max         183430.300000       172.000000                  10.000000   \n",
      "\n",
      "       Unusual_Time_of_Transaction  Unusual_Transaction_Amounts  Fraud_Label  \n",
      "count                    64.000000                    64.000000    64.000000  \n",
      "mean                      0.796875                     6.609375     0.312500  \n",
      "std                       3.867568                    38.450387     0.467177  \n",
      "min                       0.000000                     0.000000     0.000000  \n",
      "25%                       0.000000                     0.000000     0.000000  \n",
      "50%                       0.000000                     0.000000     0.000000  \n",
      "75%                       1.000000                     1.000000     1.000000  \n",
      "max                      31.000000                   302.000000     1.000000  \n",
      "   Transaction_Amount Transaction_Date Transaction_Time  User_Account_ID  \\\n",
      "0             1250.00       2023-05-10         18:30:00              101   \n",
      "1              500.00       2023-05-10         12:45:00              102   \n",
      "2            75340.00       2023-05-11         14:20:00              103   \n",
      "3              200.75       2023-05-12         09:15:00              104   \n",
      "4              305.90       2023-05-13         11:30:00              105   \n",
      "\n",
      "  Payment_Method Billing_Location Shipping_Location Device_IP_Address  \\\n",
      "0    Credit Card           Mumbai            Mumbai      192.168.1.10   \n",
      "1     Debit Card            Delhi             Delhi      192.168.1.20   \n",
      "2            UPI          Chennai              Pune      192.128.1.30   \n",
      "3    Credit Card        Bangalore         Bangalore      192.168.1.40   \n",
      "4     Debit Card          Kolkata           Kolkata      192.168.1.50   \n",
      "\n",
      "  Session_Duration  Frequency_of_Transactions Time_Between_Transactions  \\\n",
      "0      600 seconds                          5               120 seconds   \n",
      "1      900 seconds                          8               150 seconds   \n",
      "2      720 seconds                         10                90 seconds   \n",
      "3      720 seconds                          6               180 seconds   \n",
      "4      480 seconds                          9               100 seconds   \n",
      "\n",
      "   Unusual_Time_of_Transaction  Unusual_Transaction_Amounts  \\\n",
      "0                            0                            0   \n",
      "1                            0                            0   \n",
      "2                            2                            1   \n",
      "3                            0                            0   \n",
      "4                            0                            0   \n",
      "\n",
      "  IP_Address_History  Fraud_Label  \n",
      "0       192.168.1.10            0  \n",
      "1       192.168.1.20            0  \n",
      "2       192.168.1.30            1  \n",
      "3       192.168.1.40            0  \n",
      "4       192.168.1.50            0  \n"
     ]
    }
   ],
   "source": [
    "print(data.info())\n",
    "print(data.describe())\n",
    "print(data.head())"
   ]
  },
  {
   "cell_type": "code",
   "execution_count": 90,
   "metadata": {},
   "outputs": [
    {
     "name": "stdout",
     "output_type": "stream",
     "text": [
      "Transaction_Amount             0\n",
      "Transaction_Date               0\n",
      "Transaction_Time               0\n",
      "User_Account_ID                0\n",
      "Payment_Method                 0\n",
      "Billing_Location               0\n",
      "Shipping_Location              0\n",
      "Device_IP_Address              0\n",
      "Session_Duration               0\n",
      "Frequency_of_Transactions      0\n",
      "Time_Between_Transactions      0\n",
      "Unusual_Time_of_Transaction    0\n",
      "Unusual_Transaction_Amounts    0\n",
      "IP_Address_History             0\n",
      "Fraud_Label                    0\n",
      "dtype: int64\n"
     ]
    }
   ],
   "source": [
    "print(data.isnull().sum())\n"
   ]
  },
  {
   "cell_type": "code",
   "execution_count": 91,
   "metadata": {},
   "outputs": [
    {
     "data": {
      "image/png": "[encoded data removed]",
      "text/plain": [
       "<Figure size 640x480 with 1 Axes>"
      ]
     },
     "metadata": {},
     "output_type": "display_data"
    }
   ],
   "source": [
    "sns.countplot(x='Fraud_Label', data=data)\n",
    "plt.show()"
   ]
  },
  {
   "cell_type": "code",
   "execution_count": 92,
   "metadata": {},
   "outputs": [
    {
     "data": {
      "image/png": "[encoded data removed]",
      "text/plain": [
       "<Figure size 844.736x750 with 12 Axes>"
      ]
     },
     "metadata": {},
     "output_type": "display_data"
    }
   ],
   "source": [
    "important_columns = ['Transaction_Amount', 'Frequency_of_Transactions', 'Session_Duration', 'Time_Between_Transactions', 'Unusual_Transaction_Amounts']\n",
    "\n",
    "# Add the target variable for coloring\n",
    "important_columns.append('Fraud_Label')\n",
    "\n",
    "# Subset the dataframe with important columns\n",
    "subset_data = data[important_columns]\n",
    "\n",
    "# Create a pair plot\n",
    "sns.pairplot(subset_data, hue='Fraud_Label')\n",
    "plt.show()"
   ]
  },
  {
   "cell_type": "code",
   "execution_count": 93,
   "metadata": {},
   "outputs": [
    {
     "name": "stderr",
     "output_type": "stream",
     "text": [
      "C:\\Users\\Yash\\AppData\\Local\\Temp\\ipykernel_5848\\3374887820.py:6: UserWarning: Could not infer format, so each element will be parsed individually, falling back to `dateutil`. To ensure parsing is consistent and as-expected, please specify a format.\n",
      "  data[\"Hour_of_Day\"] = pd.to_datetime(data[\"Transaction_Time\"]).dt.hour\n"
     ]
    }
   ],
   "source": [
    "# Convert Transaction_Date to datetime\n",
    "data[\"Transaction_Date\"] = pd.to_datetime(data[\"Transaction_Date\"])\n",
    "\n",
    "# Feature Engineering for date and time\n",
    "data[\"Day_of_Week\"] = data[\"Transaction_Date\"].dt.dayofweek\n",
    "data[\"Hour_of_Day\"] = pd.to_datetime(data[\"Transaction_Time\"]).dt.hour\n",
    "\n",
    "# Convert categorical variables into numerical representations using Label Encoding\n",
    "label_encoder = LabelEncoder()\n",
    "\n",
    "object_columns = data.select_dtypes(include='object').columns\n",
    "for col in object_columns:\n",
    "    data[col] = label_encoder.fit_transform(data[col])\n",
    "\n",
    "# Convert date and time columns to numeric format\n",
    "data[\"Transaction_Date\"] = data[\"Transaction_Date\"].dt.strftime(\"%Y%m%d\").astype(int)\n",
    "data[\"Transaction_Time\"] = pd.to_datetime(data[\"Transaction_Time\"]).dt.strftime(\"%H%M%S\").astype(int)\n",
    "\n"
   ]
  },
  {
   "cell_type": "code",
   "execution_count": 94,
   "metadata": {},
   "outputs": [],
   "source": [
    "# Split the dataset into features (X) and target variable (y)\n",
    "X = data.drop(\"Fraud_Label\", axis=1)\n",
    "y = data[\"Fraud_Label\"]\n"
   ]
  },
  {
   "cell_type": "code",
   "execution_count": 95,
   "metadata": {},
   "outputs": [
    {
     "data": {
      "text/html": [
       "<style>#sk-container-id-6 {color: black;}#sk-container-id-6 pre{padding: 0;}#sk-container-id-6 div.sk-toggleable {background-color: white;}#sk-container-id-6 label.sk-toggleable__label {cursor: pointer;display: block;width: 100%;margin-bottom: 0;padding: 0.3em;box-sizing: border-box;text-align: center;}#sk-container-id-6 label.sk-toggleable__label-arrow:before {content: \"▸\";float: left;margin-right: 0.25em;color: #696969;}#sk-container-id-6 label.sk-toggleable__label-arrow:hover:before {color: black;}#sk-container-id-6 div.sk-estimator:hover label.sk-toggleable__label-arrow:before {color: black;}#sk-container-id-6 div.sk-toggleable__content {max-height: 0;max-width: 0;overflow: hidden;text-align: left;background-color: #f0f8ff;}#sk-container-id-6 div.sk-toggleable__content pre {margin: 0.2em;color: black;border-radius: 0.25em;background-color: #f0f8ff;}#sk-container-id-6 input.sk-toggleable__control:checked~div.sk-toggleable__content {max-height: 200px;max-width: 100%;overflow: auto;}#sk-container-id-6 input.sk-toggleable__control:checked~label.sk-toggleable__label-arrow:before {content: \"▾\";}#sk-container-id-6 div.sk-estimator input.sk-toggleable__control:checked~label.sk-toggleable__label {background-color: #d4ebff;}#sk-container-id-6 div.sk-label input.sk-toggleable__control:checked~label.sk-toggleable__label {background-color: #d4ebff;}#sk-container-id-6 input.sk-hidden--visually {border: 0;clip: rect(1px 1px 1px 1px);clip: rect(1px, 1px, 1px, 1px);height: 1px;margin: -1px;overflow: hidden;padding: 0;position: absolute;width: 1px;}#sk-container-id-6 div.sk-estimator {font-family: monospace;background-color: #f0f8ff;border: 1px dotted black;border-radius: 0.25em;box-sizing: border-box;margin-bottom: 0.5em;}#sk-container-id-6 div.sk-estimator:hover {background-color: #d4ebff;}#sk-container-id-6 div.sk-parallel-item::after {content: \"\";width: 100%;border-bottom: 1px solid gray;flex-grow: 1;}#sk-container-id-6 div.sk-label:hover label.sk-toggleable__label {background-color: #d4ebff;}#sk-container-id-6 div.sk-serial::before {content: \"\";position: absolute;border-left: 1px solid gray;box-sizing: border-box;top: 0;bottom: 0;left: 50%;z-index: 0;}#sk-container-id-6 div.sk-serial {display: flex;flex-direction: column;align-items: center;background-color: white;padding-right: 0.2em;padding-left: 0.2em;position: relative;}#sk-container-id-6 div.sk-item {position: relative;z-index: 1;}#sk-container-id-6 div.sk-parallel {display: flex;align-items: stretch;justify-content: center;background-color: white;position: relative;}#sk-container-id-6 div.sk-item::before, #sk-container-id-6 div.sk-parallel-item::before {content: \"\";position: absolute;border-left: 1px solid gray;box-sizing: border-box;top: 0;bottom: 0;left: 50%;z-index: -1;}#sk-container-id-6 div.sk-parallel-item {display: flex;flex-direction: column;z-index: 1;position: relative;background-color: white;}#sk-container-id-6 div.sk-parallel-item:first-child::after {align-self: flex-end;width: 50%;}#sk-container-id-6 div.sk-parallel-item:last-child::after {align-self: flex-start;width: 50%;}#sk-container-id-6 div.sk-parallel-item:only-child::after {width: 0;}#sk-container-id-6 div.sk-dashed-wrapped {border: 1px dashed gray;margin: 0 0.4em 0.5em 0.4em;box-sizing: border-box;padding-bottom: 0.4em;background-color: white;}#sk-container-id-6 div.sk-label label {font-family: monospace;font-weight: bold;display: inline-block;line-height: 1.2em;}#sk-container-id-6 div.sk-label-container {text-align: center;}#sk-container-id-6 div.sk-container {/* jupyter's `normalize.less` sets `[hidden] { display: none; }` but bootstrap.min.css set `[hidden] { display: none !important; }` so we also need the `!important` here to be able to override the default hidden behavior on the sphinx rendered scikit-learn.org. See: https://github.com/scikit-learn/scikit-learn/issues/21755 */display: inline-block !important;position: relative;}#sk-container-id-6 div.sk-text-repr-fallback {display: none;}</style><div id=\"sk-container-id-6\" class=\"sk-top-container\"><div class=\"sk-text-repr-fallback\"><pre>XGBClassifier(base_score=None, booster=None, callbacks=None,\n",
       "              colsample_bylevel=None, colsample_bynode=None,\n",
       "              colsample_bytree=None, early_stopping_rounds=None,\n",
       "              enable_categorical=False, eval_metric=None, feature_types=None,\n",
       "              gamma=None, gpu_id=None, grow_policy=None, importance_type=None,\n",
       "              interaction_constraints=None, learning_rate=None, max_bin=None,\n",
       "              max_cat_threshold=None, max_cat_to_onehot=None,\n",
       "              max_delta_step=None, max_depth=None, max_leaves=None,\n",
       "              min_child_weight=None, missing=nan, monotone_constraints=None,\n",
       "              n_estimators=100, n_jobs=None, num_parallel_tree=None,\n",
       "              predictor=None, random_state=42, ...)</pre><b>In a Jupyter environment, please rerun this cell to show the HTML representation or trust the notebook. <br />On GitHub, the HTML representation is unable to render, please try loading this page with nbviewer.org.</b></div><div class=\"sk-container\" hidden><div class=\"sk-item\"><div class=\"sk-estimator sk-toggleable\"><input class=\"sk-toggleable__control sk-hidden--visually\" id=\"sk-estimator-id-6\" type=\"checkbox\" checked><label for=\"sk-estimator-id-6\" class=\"sk-toggleable__label sk-toggleable__label-arrow\">XGBClassifier</label><div class=\"sk-toggleable__content\"><pre>XGBClassifier(base_score=None, booster=None, callbacks=None,\n",
       "              colsample_bylevel=None, colsample_bynode=None,\n",
       "              colsample_bytree=None, early_stopping_rounds=None,\n",
       "              enable_categorical=False, eval_metric=None, feature_types=None,\n",
       "              gamma=None, gpu_id=None, grow_policy=None, importance_type=None,\n",
       "              interaction_constraints=None, learning_rate=None, max_bin=None,\n",
       "              max_cat_threshold=None, max_cat_to_onehot=None,\n",
       "              max_delta_step=None, max_depth=None, max_leaves=None,\n",
       "              min_child_weight=None, missing=nan, monotone_constraints=None,\n",
       "              n_estimators=100, n_jobs=None, num_parallel_tree=None,\n",
       "              predictor=None, random_state=42, ...)</pre></div></div></div></div></div>"
      ],
      "text/plain": [
       "XGBClassifier(base_score=None, booster=None, callbacks=None,\n",
       "              colsample_bylevel=None, colsample_bynode=None,\n",
       "              colsample_bytree=None, early_stopping_rounds=None,\n",
       "              enable_categorical=False, eval_metric=None, feature_types=None,\n",
       "              gamma=None, gpu_id=None, grow_policy=None, importance_type=None,\n",
       "              interaction_constraints=None, learning_rate=None, max_bin=None,\n",
       "              max_cat_threshold=None, max_cat_to_onehot=None,\n",
       "              max_delta_step=None, max_depth=None, max_leaves=None,\n",
       "              min_child_weight=None, missing=nan, monotone_constraints=None,\n",
       "              n_estimators=100, n_jobs=None, num_parallel_tree=None,\n",
       "              predictor=None, random_state=42, ...)"
      ]
     },
     "execution_count": 95,
     "metadata": {},
     "output_type": "execute_result"
    }
   ],
   "source": [
    "# Apply SMOTE for class imbalance\n",
    "sm = SMOTE(random_state=42)\n",
    "X_res, y_res = sm.fit_resample(X, y)\n",
    "\n",
    "# Split the dataset into training and testing sets\n",
    "X_train, X_test, y_train, y_test = train_test_split(X_res, y_res, test_size=0.2, random_state=42)\n",
    "\n",
    "# Initialize XGBoost Classifier\n",
    "xgb_model = XGBClassifier(random_state=42)\n",
    "\n",
    "# Train the model on the training set\n",
    "xgb_model.fit(X_train, y_train)"
   ]
  },
  {
   "cell_type": "code",
   "execution_count": 96,
   "metadata": {},
   "outputs": [
    {
     "name": "stdout",
     "output_type": "stream",
     "text": [
      "Accuracy: 1.00\n",
      "Classification Report:\n",
      "              precision    recall  f1-score   support\n",
      "\n",
      "           0       1.00      1.00      1.00         6\n",
      "           1       1.00      1.00      1.00        12\n",
      "\n",
      "    accuracy                           1.00        18\n",
      "   macro avg       1.00      1.00      1.00        18\n",
      "weighted avg       1.00      1.00      1.00        18\n",
      "\n"
     ]
    }
   ],
   "source": [
    "# Make predictions on the test set\n",
    "y_pred = xgb_model.predict(X_test)\n",
    "\n",
    "# Evaluate the model\n",
    "accuracy = accuracy_score(y_test, y_pred)\n",
    "print(f\"Accuracy: {accuracy:.2f}\")\n",
    "\n",
    "print(\"Classification Report:\")\n",
    "print(classification_report(y_test, y_pred))"
   ]
  },
  {
   "cell_type": "code",
   "execution_count": 97,
   "metadata": {},
   "outputs": [],
   "source": [
    "param_grid = {\n",
    "    'n_estimators': [50, 100, 200],\n",
    "    'max_depth': [3, 5, 7]\n",
    "}\n"
   ]
  },
  {
   "cell_type": "code",
   "execution_count": 98,
   "metadata": {},
   "outputs": [],
   "source": [
    "# Initialize XGBoost Classifier\n",
    "xgb_model = XGBClassifier(random_state=42)\n"
   ]
  },
  {
   "cell_type": "code",
   "execution_count": 99,
   "metadata": {},
   "outputs": [
    {
     "name": "stdout",
     "output_type": "stream",
     "text": [
      "Best Hyperparameters: {'max_depth': 3, 'n_estimators': 50}\n"
     ]
    }
   ],
   "source": [
    "\n",
    "# Perform Grid Search for hyperparameter tuning\n",
    "grid_search = GridSearchCV(xgb_model, param_grid, cv=3)\n",
    "grid_search.fit(X_train, y_train)\n",
    "\n",
    "# Display the best hyperparameters\n",
    "print(\"Best Hyperparameters:\", grid_search.best_params_)\n"
   ]
  },
  {
   "cell_type": "code",
   "execution_count": 100,
   "metadata": {},
   "outputs": [
    {
     "name": "stdout",
     "output_type": "stream",
     "text": [
      "Accuracy with Best Model: 1.00\n"
     ]
    }
   ],
   "source": [
    "#Use the best model for predictions\n",
    "best_model = grid_search.best_estimator_\n",
    "y_pred_best = best_model.predict(X_test)\n",
    "\n",
    "# Evaluate the best model\n",
    "accuracy_best = accuracy_score(y_test, y_pred_best)\n",
    "print(f\"Accuracy with Best Model: {accuracy_best:.2f}\")"
   ]
  },
  {
   "cell_type": "code",
   "execution_count": 101,
   "metadata": {},
   "outputs": [],
   "source": [
    "import pickle\n",
    "\n",
    "# Save the trained model to a file\n",
    "with open('xgb_model.pkl', 'wb') as file:\n",
    "    pickle.dump(xgb_model, file)"
   ]
  },
  {
   "cell_type": "code",
   "execution_count": 102,
   "metadata": {},
   "outputs": [],
   "source": [
    "new_input = {\n",
    "    'Transaction_Amount': 150.0,\n",
    "    'Transaction_Date': '2023-05-10',\n",
    "    'Transaction_Time': '18:30:00',\n",
    "    'User_Account_ID': 101,\n",
    "    'Account_Creation_Date': '2022-09-15',\n",
    "    'Payment_Method': 'Credit Card',\n",
    "    'Billing_Location': 'Mumbai',\n",
    "    'Shipping_Location': 'Mumbai',\n",
    "    'Device_IP_Address': '192.168.1.10',\n",
    "    'Session_Duration': '600 seconds',\n",
    "    'Frequency_of_Transactions': 5,\n",
    "    'Time_Between_Transactions': '120 seconds',\n",
    "    'Unusual_Time_of_Transaction': 0,\n",
    "    'Unusual_Transaction_Amounts': 0,\n",
    "    'IP_Address_History': '192.168.1.10'\n",
    "}\n",
    "\n"
   ]
  },
  {
   "cell_type": "code",
   "execution_count": 105,
   "metadata": {},
   "outputs": [
    {
     "ename": "AttributeError",
     "evalue": "'XGBClassifier' object has no attribute 'pkl'",
     "output_type": "error",
     "traceback": [
      "\u001b[1;31m---------------------------------------------------------------------------\u001b[0m",
      "\u001b[1;31mAttributeError\u001b[0m                            Traceback (most recent call last)",
      "\u001b[1;32mc:\\Users\\Yash\\Desktop\\fraud_detection_project\\machine_learning\\models\\xgboost.ipynb Cell 17\u001b[0m line \u001b[0;36m1\n\u001b[1;32m----> <a href='vscode-notebook-cell:/c%3A/Users/Yash/Desktop/fraud_detection_project/machine_learning/models/xgboost.ipynb#X25sZmlsZQ%3D%3D?line=0'>1</a>\u001b[0m \u001b[39mprint\u001b[39m(xgb_model\u001b[39m.\u001b[39;49mpkl)\n",
      "\u001b[1;31mAttributeError\u001b[0m: 'XGBClassifier' object has no attribute 'pkl'"
     ]
    }
   ],
   "source": []
  },
  {
   "cell_type": "code",
   "execution_count": 108,
   "metadata": {},
   "outputs": [
    {
     "name": "stdout",
     "output_type": "stream",
     "text": [
      "Accuracy: 1.00\n",
      "Classification Report:\n",
      "              precision    recall  f1-score   support\n",
      "\n",
      "           0       1.00      1.00      1.00        16\n",
      "           1       1.00      1.00      1.00         4\n",
      "\n",
      "    accuracy                           1.00        20\n",
      "   macro avg       1.00      1.00      1.00        20\n",
      "weighted avg       1.00      1.00      1.00        20\n",
      "\n"
     ]
    }
   ],
   "source": [
    "import pandas as pd\n",
    "from sklearn.model_selection import train_test_split\n",
    "from sklearn.ensemble import RandomForestClassifier\n",
    "from xgboost import XGBClassifier\n",
    "from sklearn.metrics import accuracy_score, classification_report\n",
    "from sklearn.ensemble import VotingClassifier\n",
    "\n",
    "# Assuming your dataset is stored in a DataFrame called data\n",
    "\n",
    "# Drop columns that might not contribute significantly to the model\n",
    "\n",
    "# Split the dataset into features (X) and target variable (y)\n",
    "X = data.drop(\"Fraud_Label\", axis=1)\n",
    "y = data[\"Fraud_Label\"]\n",
    "\n",
    "# Initialize models\n",
    "rf_model = RandomForestClassifier(random_state=42)\n",
    "xgb_model = XGBClassifier(random_state=42)\n",
    "\n",
    "# Create a voting classifier\n",
    "ensemble_model = VotingClassifier(estimators=[('rf', rf_model), ('xgb', xgb_model)], voting='soft')\n",
    "\n",
    "# Split the dataset into training and testing sets\n",
    "X_train, X_test, y_train, y_test = train_test_split(X, y, test_size=0.3, random_state=42)\n",
    "\n",
    "# Train the ensemble model on the training set\n",
    "ensemble_model.fit(X_train, y_train)\n",
    "\n",
    "# Make predictions on the test set\n",
    "y_pred = ensemble_model.predict(X_test)\n",
    "\n",
    "# Evaluate the ensemble model\n",
    "accuracy = accuracy_score(y_test, y_pred)\n",
    "print(f\"Accuracy: {accuracy:.2f}\")\n",
    "\n",
    "print(\"Classification Report:\")\n",
    "print(classification_report(y_test, y_pred))\n"
   ]
  },
  {
   "cell_type": "code",
   "execution_count": 109,
   "metadata": {},
   "outputs": [
    {
     "ename": "NotFittedError",
     "evalue": "This LabelEncoder instance is not fitted yet. Call 'fit' with appropriate arguments before using this estimator.",
     "output_type": "error",
     "traceback": [
      "\u001b[1;31m---------------------------------------------------------------------------\u001b[0m",
      "\u001b[1;31mNotFittedError\u001b[0m                            Traceback (most recent call last)",
      "\u001b[1;32mc:\\Users\\Yash\\Desktop\\fraud_detection_project\\machine_learning\\models\\xgboost.ipynb Cell 19\u001b[0m line \u001b[0;36m6\n\u001b[0;32m     <a href='vscode-notebook-cell:/c%3A/Users/Yash/Desktop/fraud_detection_project/machine_learning/models/xgboost.ipynb#X33sZmlsZQ%3D%3D?line=46'>47</a>\u001b[0m new_input \u001b[39m=\u001b[39m {\n\u001b[0;32m     <a href='vscode-notebook-cell:/c%3A/Users/Yash/Desktop/fraud_detection_project/machine_learning/models/xgboost.ipynb#X33sZmlsZQ%3D%3D?line=47'>48</a>\u001b[0m     \u001b[39m'\u001b[39m\u001b[39mTransaction_Amount\u001b[39m\u001b[39m'\u001b[39m: \u001b[39m150.0\u001b[39m,\n\u001b[0;32m     <a href='vscode-notebook-cell:/c%3A/Users/Yash/Desktop/fraud_detection_project/machine_learning/models/xgboost.ipynb#X33sZmlsZQ%3D%3D?line=48'>49</a>\u001b[0m     \u001b[39m'\u001b[39m\u001b[39mUser_Account_ID\u001b[39m\u001b[39m'\u001b[39m: \u001b[39m105\u001b[39m,\n\u001b[1;32m   (...)\u001b[0m\n\u001b[0;32m     <a href='vscode-notebook-cell:/c%3A/Users/Yash/Desktop/fraud_detection_project/machine_learning/models/xgboost.ipynb#X33sZmlsZQ%3D%3D?line=58'>59</a>\u001b[0m     \u001b[39m'\u001b[39m\u001b[39mIP_Address_History\u001b[39m\u001b[39m'\u001b[39m: \u001b[39m'\u001b[39m\u001b[39m192.168.1.20\u001b[39m\u001b[39m'\u001b[39m\n\u001b[0;32m     <a href='vscode-notebook-cell:/c%3A/Users/Yash/Desktop/fraud_detection_project/machine_learning/models/xgboost.ipynb#X33sZmlsZQ%3D%3D?line=59'>60</a>\u001b[0m }\n\u001b[0;32m     <a href='vscode-notebook-cell:/c%3A/Users/Yash/Desktop/fraud_detection_project/machine_learning/models/xgboost.ipynb#X33sZmlsZQ%3D%3D?line=61'>62</a>\u001b[0m encoded_input \u001b[39m=\u001b[39m encode_input(new_input)\n\u001b[1;32m---> <a href='vscode-notebook-cell:/c%3A/Users/Yash/Desktop/fraud_detection_project/machine_learning/models/xgboost.ipynb#X33sZmlsZQ%3D%3D?line=62'>63</a>\u001b[0m predicted_probability \u001b[39m=\u001b[39m predict_fraud(encoded_input, ensemble_model)\n\u001b[0;32m     <a href='vscode-notebook-cell:/c%3A/Users/Yash/Desktop/fraud_detection_project/machine_learning/models/xgboost.ipynb#X33sZmlsZQ%3D%3D?line=64'>65</a>\u001b[0m \u001b[39mprint\u001b[39m(\u001b[39mf\u001b[39m\u001b[39m\"\u001b[39m\u001b[39mPredicted Probability of Fraud: \u001b[39m\u001b[39m{\u001b[39;00mpredicted_probability\u001b[39m:\u001b[39;00m\u001b[39m.4f\u001b[39m\u001b[39m}\u001b[39;00m\u001b[39m\"\u001b[39m)\n",
      "\u001b[1;32mc:\\Users\\Yash\\Desktop\\fraud_detection_project\\machine_learning\\models\\xgboost.ipynb Cell 19\u001b[0m line \u001b[0;36m3\n\u001b[0;32m     <a href='vscode-notebook-cell:/c%3A/Users/Yash/Desktop/fraud_detection_project/machine_learning/models/xgboost.ipynb#X33sZmlsZQ%3D%3D?line=31'>32</a>\u001b[0m input_df \u001b[39m=\u001b[39m pd\u001b[39m.\u001b[39mDataFrame([input_data])\n\u001b[0;32m     <a href='vscode-notebook-cell:/c%3A/Users/Yash/Desktop/fraud_detection_project/machine_learning/models/xgboost.ipynb#X33sZmlsZQ%3D%3D?line=33'>34</a>\u001b[0m \u001b[39m# Encode categorical variables\u001b[39;00m\n\u001b[1;32m---> <a href='vscode-notebook-cell:/c%3A/Users/Yash/Desktop/fraud_detection_project/machine_learning/models/xgboost.ipynb#X33sZmlsZQ%3D%3D?line=34'>35</a>\u001b[0m input_df[\u001b[39m'\u001b[39m\u001b[39mPayment_Method\u001b[39m\u001b[39m'\u001b[39m] \u001b[39m=\u001b[39m label_encoder_payment\u001b[39m.\u001b[39;49mtransform(input_df[\u001b[39m'\u001b[39;49m\u001b[39mPayment_Method\u001b[39;49m\u001b[39m'\u001b[39;49m])\n\u001b[0;32m     <a href='vscode-notebook-cell:/c%3A/Users/Yash/Desktop/fraud_detection_project/machine_learning/models/xgboost.ipynb#X33sZmlsZQ%3D%3D?line=35'>36</a>\u001b[0m input_df[\u001b[39m'\u001b[39m\u001b[39mBilling_Location\u001b[39m\u001b[39m'\u001b[39m] \u001b[39m=\u001b[39m label_encoder_billing\u001b[39m.\u001b[39mtransform(input_df[\u001b[39m'\u001b[39m\u001b[39mBilling_Location\u001b[39m\u001b[39m'\u001b[39m])\n\u001b[0;32m     <a href='vscode-notebook-cell:/c%3A/Users/Yash/Desktop/fraud_detection_project/machine_learning/models/xgboost.ipynb#X33sZmlsZQ%3D%3D?line=36'>37</a>\u001b[0m input_df[\u001b[39m'\u001b[39m\u001b[39mShipping_Location\u001b[39m\u001b[39m'\u001b[39m] \u001b[39m=\u001b[39m label_encoder_shipping\u001b[39m.\u001b[39mtransform(input_df[\u001b[39m'\u001b[39m\u001b[39mShipping_Location\u001b[39m\u001b[39m'\u001b[39m])\n",
      "File \u001b[1;32mc:\\Users\\Yash\\AppData\\Local\\Programs\\Python\\Python311\\Lib\\site-packages\\sklearn\\utils\\_set_output.py:140\u001b[0m, in \u001b[0;36m_wrap_method_output.<locals>.wrapped\u001b[1;34m(self, X, *args, **kwargs)\u001b[0m\n\u001b[0;32m    138\u001b[0m \u001b[39m@wraps\u001b[39m(f)\n\u001b[0;32m    139\u001b[0m \u001b[39mdef\u001b[39;00m \u001b[39mwrapped\u001b[39m(\u001b[39mself\u001b[39m, X, \u001b[39m*\u001b[39margs, \u001b[39m*\u001b[39m\u001b[39m*\u001b[39mkwargs):\n\u001b[1;32m--> 140\u001b[0m     data_to_wrap \u001b[39m=\u001b[39m f(\u001b[39mself\u001b[39;49m, X, \u001b[39m*\u001b[39;49margs, \u001b[39m*\u001b[39;49m\u001b[39m*\u001b[39;49mkwargs)\n\u001b[0;32m    141\u001b[0m     \u001b[39mif\u001b[39;00m \u001b[39misinstance\u001b[39m(data_to_wrap, \u001b[39mtuple\u001b[39m):\n\u001b[0;32m    142\u001b[0m         \u001b[39m# only wrap the first output for cross decomposition\u001b[39;00m\n\u001b[0;32m    143\u001b[0m         return_tuple \u001b[39m=\u001b[39m (\n\u001b[0;32m    144\u001b[0m             _wrap_data_with_container(method, data_to_wrap[\u001b[39m0\u001b[39m], X, \u001b[39mself\u001b[39m),\n\u001b[0;32m    145\u001b[0m             \u001b[39m*\u001b[39mdata_to_wrap[\u001b[39m1\u001b[39m:],\n\u001b[0;32m    146\u001b[0m         )\n",
      "File \u001b[1;32mc:\\Users\\Yash\\AppData\\Local\\Programs\\Python\\Python311\\Lib\\site-packages\\sklearn\\preprocessing\\_label.py:131\u001b[0m, in \u001b[0;36mLabelEncoder.transform\u001b[1;34m(self, y)\u001b[0m\n\u001b[0;32m    118\u001b[0m \u001b[39mdef\u001b[39;00m \u001b[39mtransform\u001b[39m(\u001b[39mself\u001b[39m, y):\n\u001b[0;32m    119\u001b[0m \u001b[39m    \u001b[39m\u001b[39m\"\"\"Transform labels to normalized encoding.\u001b[39;00m\n\u001b[0;32m    120\u001b[0m \n\u001b[0;32m    121\u001b[0m \u001b[39m    Parameters\u001b[39;00m\n\u001b[1;32m   (...)\u001b[0m\n\u001b[0;32m    129\u001b[0m \u001b[39m        Labels as normalized encodings.\u001b[39;00m\n\u001b[0;32m    130\u001b[0m \u001b[39m    \"\"\"\u001b[39;00m\n\u001b[1;32m--> 131\u001b[0m     check_is_fitted(\u001b[39mself\u001b[39;49m)\n\u001b[0;32m    132\u001b[0m     y \u001b[39m=\u001b[39m column_or_1d(y, dtype\u001b[39m=\u001b[39m\u001b[39mself\u001b[39m\u001b[39m.\u001b[39mclasses_\u001b[39m.\u001b[39mdtype, warn\u001b[39m=\u001b[39m\u001b[39mTrue\u001b[39;00m)\n\u001b[0;32m    133\u001b[0m     \u001b[39m# transform of empty array is empty array\u001b[39;00m\n",
      "File \u001b[1;32mc:\\Users\\Yash\\AppData\\Local\\Programs\\Python\\Python311\\Lib\\site-packages\\sklearn\\utils\\validation.py:1462\u001b[0m, in \u001b[0;36mcheck_is_fitted\u001b[1;34m(estimator, attributes, msg, all_or_any)\u001b[0m\n\u001b[0;32m   1459\u001b[0m     \u001b[39mraise\u001b[39;00m \u001b[39mTypeError\u001b[39;00m(\u001b[39m\"\u001b[39m\u001b[39m%s\u001b[39;00m\u001b[39m is not an estimator instance.\u001b[39m\u001b[39m\"\u001b[39m \u001b[39m%\u001b[39m (estimator))\n\u001b[0;32m   1461\u001b[0m \u001b[39mif\u001b[39;00m \u001b[39mnot\u001b[39;00m _is_fitted(estimator, attributes, all_or_any):\n\u001b[1;32m-> 1462\u001b[0m     \u001b[39mraise\u001b[39;00m NotFittedError(msg \u001b[39m%\u001b[39m {\u001b[39m\"\u001b[39m\u001b[39mname\u001b[39m\u001b[39m\"\u001b[39m: \u001b[39mtype\u001b[39m(estimator)\u001b[39m.\u001b[39m\u001b[39m__name__\u001b[39m})\n",
      "\u001b[1;31mNotFittedError\u001b[0m: This LabelEncoder instance is not fitted yet. Call 'fit' with appropriate arguments before using this estimator."
     ]
    }
   ],
   "source": [
    "import pandas as pd\n",
    "from sklearn.preprocessing import LabelEncoder\n",
    "\n",
    "def encode_input(input_data):\n",
    "    encoded_data = input_data.copy()\n",
    "\n",
    "    # Define encoding mappings if needed\n",
    "    payment_method_mapping = {'Credit Card': 0, 'UPI': 1, 'Other': 2}\n",
    "    location_mapping = {'New York': 0, 'Mumbai': 1, 'Chennai': 2, 'Pune': 3, 'Other': 4}\n",
    "\n",
    "    # Encode Payment_Method\n",
    "    encoded_data['Payment_Method'] = payment_method_mapping.get(encoded_data['Payment_Method'], -1)\n",
    "\n",
    "    # Encode Billing_Location and Shipping_Location\n",
    "    encoded_data['Billing_Location'] = location_mapping.get(encoded_data['Billing_Location'], -1)\n",
    "    encoded_data['Shipping_Location'] = location_mapping.get(encoded_data['Shipping_Location'], -1)\n",
    "\n",
    "    # Convert Session_Duration and Time_Between_Transactions to integers\n",
    "    encoded_data['Session_Duration'] = int(encoded_data['Session_Duration'].split()[0])\n",
    "    encoded_data['Time_Between_Transactions'] = int(encoded_data['Time_Between_Transactions'].split()[0])\n",
    "\n",
    "    return encoded_data\n",
    "\n",
    "def predict_fraud(input_data, ensemble_model):\n",
    "    # Load label encoders\n",
    "    label_encoder_payment = LabelEncoder()\n",
    "    label_encoder_billing = LabelEncoder()\n",
    "    label_encoder_shipping = LabelEncoder()\n",
    "    label_encoder_ip = LabelEncoder()\n",
    "\n",
    "    # Assuming your input_data is a DataFrame with a single row\n",
    "    input_df = pd.DataFrame([input_data])\n",
    "\n",
    "    # Encode categorical variables\n",
    "    input_df['Payment_Method'] = label_encoder_payment.transform(input_df['Payment_Method'])\n",
    "    input_df['Billing_Location'] = label_encoder_billing.transform(input_df['Billing_Location'])\n",
    "    input_df['Shipping_Location'] = label_encoder_shipping.transform(input_df['Shipping_Location'])\n",
    "    input_df['Device_IP_Address'] = label_encoder_ip.transform(input_df['Device_IP_Address'])\n",
    "\n",
    "    # Make predictions\n",
    "    predicted_prob = ensemble_model.predict_proba(input_df)[:, 1]\n",
    "\n",
    "    # Return the predicted probability\n",
    "    return predicted_prob[0]\n",
    "\n",
    "# Example usage:\n",
    "new_input = {\n",
    "    'Transaction_Amount': 150.0,\n",
    "    'User_Account_ID': 105,\n",
    "    'Payment_Method': 'Credit Card',\n",
    "    'Billing_Location': 'New York',\n",
    "    'Shipping_Location': 'New York',\n",
    "    'Device_IP_Address': '192.168.1.20',\n",
    "    'Session_Duration': '300 seconds',\n",
    "    'Frequency_of_Transactions': 3,\n",
    "    'Time_Between_Transactions': '180 seconds',\n",
    "    'Unusual_Time_of_Transaction': 0,\n",
    "    'Unusual_Transaction_Amounts': 0,\n",
    "    'IP_Address_History': '192.168.1.20'\n",
    "}\n",
    "\n",
    "encoded_input = encode_input(new_input)\n",
    "predicted_probability = predict_fraud(encoded_input, ensemble_model)\n",
    "\n",
    "print(f\"Predicted Probability of Fraud: {predicted_probability:.4f}\")\n"
   ]
  },
  {
   "cell_type": "code",
   "execution_count": 117,
   "metadata": {},
   "outputs": [
    {
     "ename": "ValueError",
     "evalue": "invalid literal for int() with base 10: 'New York'",
     "output_type": "error",
     "traceback": [
      "\u001b[1;31m---------------------------------------------------------------------------\u001b[0m",
      "\u001b[1;31mValueError\u001b[0m                                Traceback (most recent call last)",
      "\u001b[1;32mc:\\Users\\Yash\\Desktop\\fraud_detection_project\\machine_learning\\models\\xgboost.ipynb Cell 20\u001b[0m line \u001b[0;36m7\n\u001b[0;32m     <a href='vscode-notebook-cell:/c%3A/Users/Yash/Desktop/fraud_detection_project/machine_learning/models/xgboost.ipynb#X34sZmlsZQ%3D%3D?line=57'>58</a>\u001b[0m label_encoder_payment, label_encoder_billing, label_encoder_shipping, label_encoder_ip \u001b[39m=\u001b[39m fit_label_encoders(data)\n\u001b[0;32m     <a href='vscode-notebook-cell:/c%3A/Users/Yash/Desktop/fraud_detection_project/machine_learning/models/xgboost.ipynb#X34sZmlsZQ%3D%3D?line=59'>60</a>\u001b[0m new_input \u001b[39m=\u001b[39m {\n\u001b[0;32m     <a href='vscode-notebook-cell:/c%3A/Users/Yash/Desktop/fraud_detection_project/machine_learning/models/xgboost.ipynb#X34sZmlsZQ%3D%3D?line=60'>61</a>\u001b[0m     \u001b[39m'\u001b[39m\u001b[39mTransaction_Amount\u001b[39m\u001b[39m'\u001b[39m: \u001b[39m150.0\u001b[39m,\n\u001b[0;32m     <a href='vscode-notebook-cell:/c%3A/Users/Yash/Desktop/fraud_detection_project/machine_learning/models/xgboost.ipynb#X34sZmlsZQ%3D%3D?line=61'>62</a>\u001b[0m     \u001b[39m'\u001b[39m\u001b[39mUser_Account_ID\u001b[39m\u001b[39m'\u001b[39m: \u001b[39m105\u001b[39m,\n\u001b[1;32m   (...)\u001b[0m\n\u001b[0;32m     <a href='vscode-notebook-cell:/c%3A/Users/Yash/Desktop/fraud_detection_project/machine_learning/models/xgboost.ipynb#X34sZmlsZQ%3D%3D?line=71'>72</a>\u001b[0m     \u001b[39m'\u001b[39m\u001b[39mIP_Address_History\u001b[39m\u001b[39m'\u001b[39m: \u001b[39m'\u001b[39m\u001b[39m192.168.1.20\u001b[39m\u001b[39m'\u001b[39m\n\u001b[0;32m     <a href='vscode-notebook-cell:/c%3A/Users/Yash/Desktop/fraud_detection_project/machine_learning/models/xgboost.ipynb#X34sZmlsZQ%3D%3D?line=72'>73</a>\u001b[0m }\n\u001b[1;32m---> <a href='vscode-notebook-cell:/c%3A/Users/Yash/Desktop/fraud_detection_project/machine_learning/models/xgboost.ipynb#X34sZmlsZQ%3D%3D?line=74'>75</a>\u001b[0m encoded_input \u001b[39m=\u001b[39m encode_input(new_input, label_encoder_billing, label_encoder_shipping, label_encoder_ip)\n\u001b[0;32m     <a href='vscode-notebook-cell:/c%3A/Users/Yash/Desktop/fraud_detection_project/machine_learning/models/xgboost.ipynb#X34sZmlsZQ%3D%3D?line=75'>76</a>\u001b[0m predicted_probability \u001b[39m=\u001b[39m predict_fraud(encoded_input, ensemble_model, label_encoder_payment, label_encoder_billing, label_encoder_shipping, label_encoder_ip)\n\u001b[0;32m     <a href='vscode-notebook-cell:/c%3A/Users/Yash/Desktop/fraud_detection_project/machine_learning/models/xgboost.ipynb#X34sZmlsZQ%3D%3D?line=77'>78</a>\u001b[0m \u001b[39mprint\u001b[39m(\u001b[39mf\u001b[39m\u001b[39m\"\u001b[39m\u001b[39mPredicted Probability of Fraud: \u001b[39m\u001b[39m{\u001b[39;00mpredicted_probability\u001b[39m:\u001b[39;00m\u001b[39m.4f\u001b[39m\u001b[39m}\u001b[39;00m\u001b[39m\"\u001b[39m)\n",
      "\u001b[1;32mc:\\Users\\Yash\\Desktop\\fraud_detection_project\\machine_learning\\models\\xgboost.ipynb Cell 20\u001b[0m line \u001b[0;36m2\n\u001b[0;32m     <a href='vscode-notebook-cell:/c%3A/Users/Yash/Desktop/fraud_detection_project/machine_learning/models/xgboost.ipynb#X34sZmlsZQ%3D%3D?line=22'>23</a>\u001b[0m input_df \u001b[39m=\u001b[39m pd\u001b[39m.\u001b[39mget_dummies(input_df, columns\u001b[39m=\u001b[39m[\u001b[39m'\u001b[39m\u001b[39mPayment_Method\u001b[39m\u001b[39m'\u001b[39m], drop_first\u001b[39m=\u001b[39m\u001b[39mTrue\u001b[39;00m)\n\u001b[0;32m     <a href='vscode-notebook-cell:/c%3A/Users/Yash/Desktop/fraud_detection_project/machine_learning/models/xgboost.ipynb#X34sZmlsZQ%3D%3D?line=24'>25</a>\u001b[0m \u001b[39m# Encode Billing_Location, Shipping_Location, and Device_IP_Address\u001b[39;00m\n\u001b[1;32m---> <a href='vscode-notebook-cell:/c%3A/Users/Yash/Desktop/fraud_detection_project/machine_learning/models/xgboost.ipynb#X34sZmlsZQ%3D%3D?line=25'>26</a>\u001b[0m input_df[\u001b[39m'\u001b[39m\u001b[39mBilling_Location\u001b[39m\u001b[39m'\u001b[39m] \u001b[39m=\u001b[39m label_encoder_billing\u001b[39m.\u001b[39;49mtransform(input_df[\u001b[39m'\u001b[39;49m\u001b[39mBilling_Location\u001b[39;49m\u001b[39m'\u001b[39;49m])\n\u001b[0;32m     <a href='vscode-notebook-cell:/c%3A/Users/Yash/Desktop/fraud_detection_project/machine_learning/models/xgboost.ipynb#X34sZmlsZQ%3D%3D?line=26'>27</a>\u001b[0m input_df[\u001b[39m'\u001b[39m\u001b[39mShipping_Location\u001b[39m\u001b[39m'\u001b[39m] \u001b[39m=\u001b[39m label_encoder_shipping\u001b[39m.\u001b[39mtransform(input_df[\u001b[39m'\u001b[39m\u001b[39mShipping_Location\u001b[39m\u001b[39m'\u001b[39m])\n\u001b[0;32m     <a href='vscode-notebook-cell:/c%3A/Users/Yash/Desktop/fraud_detection_project/machine_learning/models/xgboost.ipynb#X34sZmlsZQ%3D%3D?line=27'>28</a>\u001b[0m input_df[\u001b[39m'\u001b[39m\u001b[39mDevice_IP_Address\u001b[39m\u001b[39m'\u001b[39m] \u001b[39m=\u001b[39m label_encoder_ip\u001b[39m.\u001b[39mtransform(input_df[\u001b[39m'\u001b[39m\u001b[39mDevice_IP_Address\u001b[39m\u001b[39m'\u001b[39m])\n",
      "File \u001b[1;32mc:\\Users\\Yash\\AppData\\Local\\Programs\\Python\\Python311\\Lib\\site-packages\\sklearn\\utils\\_set_output.py:140\u001b[0m, in \u001b[0;36m_wrap_method_output.<locals>.wrapped\u001b[1;34m(self, X, *args, **kwargs)\u001b[0m\n\u001b[0;32m    138\u001b[0m \u001b[39m@wraps\u001b[39m(f)\n\u001b[0;32m    139\u001b[0m \u001b[39mdef\u001b[39;00m \u001b[39mwrapped\u001b[39m(\u001b[39mself\u001b[39m, X, \u001b[39m*\u001b[39margs, \u001b[39m*\u001b[39m\u001b[39m*\u001b[39mkwargs):\n\u001b[1;32m--> 140\u001b[0m     data_to_wrap \u001b[39m=\u001b[39m f(\u001b[39mself\u001b[39;49m, X, \u001b[39m*\u001b[39;49margs, \u001b[39m*\u001b[39;49m\u001b[39m*\u001b[39;49mkwargs)\n\u001b[0;32m    141\u001b[0m     \u001b[39mif\u001b[39;00m \u001b[39misinstance\u001b[39m(data_to_wrap, \u001b[39mtuple\u001b[39m):\n\u001b[0;32m    142\u001b[0m         \u001b[39m# only wrap the first output for cross decomposition\u001b[39;00m\n\u001b[0;32m    143\u001b[0m         return_tuple \u001b[39m=\u001b[39m (\n\u001b[0;32m    144\u001b[0m             _wrap_data_with_container(method, data_to_wrap[\u001b[39m0\u001b[39m], X, \u001b[39mself\u001b[39m),\n\u001b[0;32m    145\u001b[0m             \u001b[39m*\u001b[39mdata_to_wrap[\u001b[39m1\u001b[39m:],\n\u001b[0;32m    146\u001b[0m         )\n",
      "File \u001b[1;32mc:\\Users\\Yash\\AppData\\Local\\Programs\\Python\\Python311\\Lib\\site-packages\\sklearn\\preprocessing\\_label.py:132\u001b[0m, in \u001b[0;36mLabelEncoder.transform\u001b[1;34m(self, y)\u001b[0m\n\u001b[0;32m    119\u001b[0m \u001b[39m\u001b[39m\u001b[39m\"\"\"Transform labels to normalized encoding.\u001b[39;00m\n\u001b[0;32m    120\u001b[0m \n\u001b[0;32m    121\u001b[0m \u001b[39mParameters\u001b[39;00m\n\u001b[1;32m   (...)\u001b[0m\n\u001b[0;32m    129\u001b[0m \u001b[39m    Labels as normalized encodings.\u001b[39;00m\n\u001b[0;32m    130\u001b[0m \u001b[39m\"\"\"\u001b[39;00m\n\u001b[0;32m    131\u001b[0m check_is_fitted(\u001b[39mself\u001b[39m)\n\u001b[1;32m--> 132\u001b[0m y \u001b[39m=\u001b[39m column_or_1d(y, dtype\u001b[39m=\u001b[39;49m\u001b[39mself\u001b[39;49m\u001b[39m.\u001b[39;49mclasses_\u001b[39m.\u001b[39;49mdtype, warn\u001b[39m=\u001b[39;49m\u001b[39mTrue\u001b[39;49;00m)\n\u001b[0;32m    133\u001b[0m \u001b[39m# transform of empty array is empty array\u001b[39;00m\n\u001b[0;32m    134\u001b[0m \u001b[39mif\u001b[39;00m _num_samples(y) \u001b[39m==\u001b[39m \u001b[39m0\u001b[39m:\n",
      "File \u001b[1;32mc:\\Users\\Yash\\AppData\\Local\\Programs\\Python\\Python311\\Lib\\site-packages\\sklearn\\utils\\validation.py:1220\u001b[0m, in \u001b[0;36mcolumn_or_1d\u001b[1;34m(y, dtype, warn)\u001b[0m\n\u001b[0;32m   1194\u001b[0m \u001b[39m\u001b[39m\u001b[39m\"\"\"Ravel column or 1d numpy array, else raises an error.\u001b[39;00m\n\u001b[0;32m   1195\u001b[0m \n\u001b[0;32m   1196\u001b[0m \u001b[39mParameters\u001b[39;00m\n\u001b[1;32m   (...)\u001b[0m\n\u001b[0;32m   1217\u001b[0m \u001b[39m    If `y` is not a 1D array or a 2D array with a single row or column.\u001b[39;00m\n\u001b[0;32m   1218\u001b[0m \u001b[39m\"\"\"\u001b[39;00m\n\u001b[0;32m   1219\u001b[0m xp, _ \u001b[39m=\u001b[39m get_namespace(y)\n\u001b[1;32m-> 1220\u001b[0m y \u001b[39m=\u001b[39m check_array(\n\u001b[0;32m   1221\u001b[0m     y,\n\u001b[0;32m   1222\u001b[0m     ensure_2d\u001b[39m=\u001b[39;49m\u001b[39mFalse\u001b[39;49;00m,\n\u001b[0;32m   1223\u001b[0m     dtype\u001b[39m=\u001b[39;49mdtype,\n\u001b[0;32m   1224\u001b[0m     input_name\u001b[39m=\u001b[39;49m\u001b[39m\"\u001b[39;49m\u001b[39my\u001b[39;49m\u001b[39m\"\u001b[39;49m,\n\u001b[0;32m   1225\u001b[0m     force_all_finite\u001b[39m=\u001b[39;49m\u001b[39mFalse\u001b[39;49;00m,\n\u001b[0;32m   1226\u001b[0m     ensure_min_samples\u001b[39m=\u001b[39;49m\u001b[39m0\u001b[39;49m,\n\u001b[0;32m   1227\u001b[0m )\n\u001b[0;32m   1229\u001b[0m shape \u001b[39m=\u001b[39m y\u001b[39m.\u001b[39mshape\n\u001b[0;32m   1230\u001b[0m \u001b[39mif\u001b[39;00m \u001b[39mlen\u001b[39m(shape) \u001b[39m==\u001b[39m \u001b[39m1\u001b[39m:\n",
      "File \u001b[1;32mc:\\Users\\Yash\\AppData\\Local\\Programs\\Python\\Python311\\Lib\\site-packages\\sklearn\\utils\\validation.py:915\u001b[0m, in \u001b[0;36mcheck_array\u001b[1;34m(array, accept_sparse, accept_large_sparse, dtype, order, copy, force_all_finite, ensure_2d, allow_nd, ensure_min_samples, ensure_min_features, estimator, input_name)\u001b[0m\n\u001b[0;32m    907\u001b[0m     \u001b[39mif\u001b[39;00m xp\u001b[39m.\u001b[39misdtype(array\u001b[39m.\u001b[39mdtype, (\u001b[39m\"\u001b[39m\u001b[39mreal floating\u001b[39m\u001b[39m\"\u001b[39m, \u001b[39m\"\u001b[39m\u001b[39mcomplex floating\u001b[39m\u001b[39m\"\u001b[39m)):\n\u001b[0;32m    908\u001b[0m         _assert_all_finite(\n\u001b[0;32m    909\u001b[0m             array,\n\u001b[0;32m    910\u001b[0m             allow_nan\u001b[39m=\u001b[39m\u001b[39mFalse\u001b[39;00m,\n\u001b[1;32m   (...)\u001b[0m\n\u001b[0;32m    913\u001b[0m             input_name\u001b[39m=\u001b[39minput_name,\n\u001b[0;32m    914\u001b[0m         )\n\u001b[1;32m--> 915\u001b[0m     array \u001b[39m=\u001b[39m xp\u001b[39m.\u001b[39;49mastype(array, dtype, copy\u001b[39m=\u001b[39;49m\u001b[39mFalse\u001b[39;49;00m)\n\u001b[0;32m    916\u001b[0m \u001b[39melse\u001b[39;00m:\n\u001b[0;32m    917\u001b[0m     array \u001b[39m=\u001b[39m _asarray_with_order(array, order\u001b[39m=\u001b[39morder, dtype\u001b[39m=\u001b[39mdtype, xp\u001b[39m=\u001b[39mxp)\n",
      "File \u001b[1;32mc:\\Users\\Yash\\AppData\\Local\\Programs\\Python\\Python311\\Lib\\site-packages\\sklearn\\utils\\_array_api.py:245\u001b[0m, in \u001b[0;36m_NumPyAPIWrapper.astype\u001b[1;34m(self, x, dtype, copy, casting)\u001b[0m\n\u001b[0;32m    243\u001b[0m \u001b[39mdef\u001b[39;00m \u001b[39mastype\u001b[39m(\u001b[39mself\u001b[39m, x, dtype, \u001b[39m*\u001b[39m, copy\u001b[39m=\u001b[39m\u001b[39mTrue\u001b[39;00m, casting\u001b[39m=\u001b[39m\u001b[39m\"\u001b[39m\u001b[39munsafe\u001b[39m\u001b[39m\"\u001b[39m):\n\u001b[0;32m    244\u001b[0m     \u001b[39m# astype is not defined in the top level NumPy namespace\u001b[39;00m\n\u001b[1;32m--> 245\u001b[0m     \u001b[39mreturn\u001b[39;00m x\u001b[39m.\u001b[39;49mastype(dtype, copy\u001b[39m=\u001b[39;49mcopy, casting\u001b[39m=\u001b[39;49mcasting)\n",
      "\u001b[1;31mValueError\u001b[0m: invalid literal for int() with base 10: 'New York'"
     ]
    }
   ],
   "source": [
    "import pandas as pd\n",
    "from sklearn.preprocessing import LabelEncoder\n",
    "\n",
    "def fit_label_encoders(data):\n",
    "    label_encoder_payment = LabelEncoder()\n",
    "    label_encoder_billing = LabelEncoder()\n",
    "    label_encoder_shipping = LabelEncoder()\n",
    "    label_encoder_ip = LabelEncoder()\n",
    "\n",
    "    # Fit label encoders\n",
    "    label_encoder_payment.fit(data['Payment_Method'])\n",
    "    label_encoder_billing.fit(data['Billing_Location'])\n",
    "    label_encoder_shipping.fit(data['Shipping_Location'])\n",
    "    label_encoder_ip.fit(data['Device_IP_Address'])\n",
    "\n",
    "    return label_encoder_payment, label_encoder_billing, label_encoder_shipping, label_encoder_ip\n",
    "\n",
    "def encode_input(input_data, label_encoder_billing, label_encoder_shipping, label_encoder_ip):\n",
    "    # Ensure the input_data is a DataFrame with a single row\n",
    "    input_df = pd.DataFrame([input_data])\n",
    "\n",
    "    # Handle categorical variables with one-hot encoding\n",
    "    input_df = pd.get_dummies(input_df, columns=['Payment_Method'], drop_first=True)\n",
    "\n",
    "    # Encode Billing_Location, Shipping_Location, and Device_IP_Address\n",
    "    input_df['Billing_Location'] = label_encoder_billing.transform(input_df['Billing_Location'])\n",
    "    input_df['Shipping_Location'] = label_encoder_shipping.transform(input_df['Shipping_Location'])\n",
    "    input_df['Device_IP_Address'] = label_encoder_ip.transform(input_df['Device_IP_Address'])\n",
    "\n",
    "    # Convert Session_Duration and Time_Between_Transactions to integers\n",
    "    input_df['Session_Duration'] = int(input_df['Session_Duration'].split()[0])\n",
    "    input_df['Time_Between_Transactions'] = int(input_df['Time_Between_Transactions'].split()[0])\n",
    "\n",
    "    return input_df\n",
    "\n",
    "\n",
    "\n",
    "\n",
    "\n",
    "\n",
    "def predict_fraud(input_data, ensemble_model, label_encoder_payment, label_encoder_billing, label_encoder_shipping, label_encoder_ip):\n",
    "    # Assuming your input_data is a DataFrame with a single row\n",
    "    input_df = pd.DataFrame([input_data])\n",
    "\n",
    "    # Encode categorical variables\n",
    "    input_df['Payment_Method'] = label_encoder_payment.transform(input_df['Payment_Method'])\n",
    "    input_df['Billing_Location'] = label_encoder_billing.transform(input_df['Billing_Location'])\n",
    "    input_df['Shipping_Location'] = label_encoder_shipping.transform(input_df['Shipping_Location'])\n",
    "    input_df['Device_IP_Address'] = label_encoder_ip.transform(input_df['Device_IP_Address'])\n",
    "\n",
    "    # Make predictions\n",
    "    predicted_prob = ensemble_model.predict_proba(input_df)[:, 1]\n",
    "\n",
    "    # Return the predicted probability\n",
    "    return predicted_prob[0]\n",
    "\n",
    "# Example usage:\n",
    "label_encoder_payment, label_encoder_billing, label_encoder_shipping, label_encoder_ip = fit_label_encoders(data)\n",
    "\n",
    "new_input = {\n",
    "    'Transaction_Amount': 150.0,\n",
    "    'User_Account_ID': 105,\n",
    "    'Payment_Method': 'Credit Card',\n",
    "    'Billing_Location': 'New York',\n",
    "    'Shipping_Location': 'New York',\n",
    "    'Device_IP_Address': '192.168.1.20',\n",
    "    'Session_Duration': '300 seconds',\n",
    "    'Frequency_of_Transactions': 3,\n",
    "    'Time_Between_Transactions': '180 seconds',\n",
    "    'Unusual_Time_of_Transaction': 0,\n",
    "    'Unusual_Transaction_Amounts': 0,\n",
    "    'IP_Address_History': '192.168.1.20'\n",
    "}\n",
    "\n",
    "encoded_input = encode_input(new_input, label_encoder_billing, label_encoder_shipping, label_encoder_ip)\n",
    "predicted_probability = predict_fraud(encoded_input, ensemble_model, label_encoder_payment, label_encoder_billing, label_encoder_shipping, label_encoder_ip)\n",
    "\n",
    "print(f\"Predicted Probability of Fraud: {predicted_probability:.4f}\")\n"
   ]
  },
  {
   "cell_type": "code",
   "execution_count": 118,
   "metadata": {},
   "outputs": [
    {
     "name": "stderr",
     "output_type": "stream",
     "text": [
      "C:\\Users\\Yash\\AppData\\Local\\Temp\\ipykernel_5848\\558815898.py:10: UserWarning: Could not infer format, so each element will be parsed individually, falling back to `dateutil`. To ensure parsing is consistent and as-expected, please specify a format.\n",
      "  data[\"Hour_of_Day\"] = pd.to_datetime(data[\"Transaction_Time\"]).dt.hour\n"
     ]
    }
   ],
   "source": [
    "import pandas as pd\n",
    "from sklearn.preprocessing import LabelEncoder\n",
    "\n",
    "# Load your dataset\n",
    "data = pd.read_csv('../data/transaction_detail.csv')\n",
    "\n",
    "# Convert Transaction_Date and Transaction_Time to datetime\n",
    "data[\"Transaction_Date\"] = pd.to_datetime(data[\"Transaction_Date\"])\n",
    "data[\"Day_of_Week\"] = data[\"Transaction_Date\"].dt.dayofweek\n",
    "data[\"Hour_of_Day\"] = pd.to_datetime(data[\"Transaction_Time\"]).dt.hour\n",
    "\n",
    "# Convert categorical variables into numerical representations using Label Encoding\n",
    "label_encoder = LabelEncoder()\n",
    "\n",
    "object_columns = data.select_dtypes(include='object').columns\n",
    "for col in object_columns:\n",
    "    data[col] = label_encoder.fit_transform(data[col])\n",
    "\n",
    "# Convert date and time columns to numeric format\n",
    "data[\"Transaction_Date\"] = data[\"Transaction_Date\"].dt.strftime(\"%Y%m%d\").astype(int)\n",
    "data[\"Transaction_Time\"] = pd.to_datetime(data[\"Transaction_Time\"]).dt.strftime(\"%H%M%S\").astype(int)\n"
   ]
  },
  {
   "cell_type": "code",
   "execution_count": 119,
   "metadata": {},
   "outputs": [
    {
     "data": {
      "text/html": [
       "<style>#sk-container-id-7 {color: black;}#sk-container-id-7 pre{padding: 0;}#sk-container-id-7 div.sk-toggleable {background-color: white;}#sk-container-id-7 label.sk-toggleable__label {cursor: pointer;display: block;width: 100%;margin-bottom: 0;padding: 0.3em;box-sizing: border-box;text-align: center;}#sk-container-id-7 label.sk-toggleable__label-arrow:before {content: \"▸\";float: left;margin-right: 0.25em;color: #696969;}#sk-container-id-7 label.sk-toggleable__label-arrow:hover:before {color: black;}#sk-container-id-7 div.sk-estimator:hover label.sk-toggleable__label-arrow:before {color: black;}#sk-container-id-7 div.sk-toggleable__content {max-height: 0;max-width: 0;overflow: hidden;text-align: left;background-color: #f0f8ff;}#sk-container-id-7 div.sk-toggleable__content pre {margin: 0.2em;color: black;border-radius: 0.25em;background-color: #f0f8ff;}#sk-container-id-7 input.sk-toggleable__control:checked~div.sk-toggleable__content {max-height: 200px;max-width: 100%;overflow: auto;}#sk-container-id-7 input.sk-toggleable__control:checked~label.sk-toggleable__label-arrow:before {content: \"▾\";}#sk-container-id-7 div.sk-estimator input.sk-toggleable__control:checked~label.sk-toggleable__label {background-color: #d4ebff;}#sk-container-id-7 div.sk-label input.sk-toggleable__control:checked~label.sk-toggleable__label {background-color: #d4ebff;}#sk-container-id-7 input.sk-hidden--visually {border: 0;clip: rect(1px 1px 1px 1px);clip: rect(1px, 1px, 1px, 1px);height: 1px;margin: -1px;overflow: hidden;padding: 0;position: absolute;width: 1px;}#sk-container-id-7 div.sk-estimator {font-family: monospace;background-color: #f0f8ff;border: 1px dotted black;border-radius: 0.25em;box-sizing: border-box;margin-bottom: 0.5em;}#sk-container-id-7 div.sk-estimator:hover {background-color: #d4ebff;}#sk-container-id-7 div.sk-parallel-item::after {content: \"\";width: 100%;border-bottom: 1px solid gray;flex-grow: 1;}#sk-container-id-7 div.sk-label:hover label.sk-toggleable__label {background-color: #d4ebff;}#sk-container-id-7 div.sk-serial::before {content: \"\";position: absolute;border-left: 1px solid gray;box-sizing: border-box;top: 0;bottom: 0;left: 50%;z-index: 0;}#sk-container-id-7 div.sk-serial {display: flex;flex-direction: column;align-items: center;background-color: white;padding-right: 0.2em;padding-left: 0.2em;position: relative;}#sk-container-id-7 div.sk-item {position: relative;z-index: 1;}#sk-container-id-7 div.sk-parallel {display: flex;align-items: stretch;justify-content: center;background-color: white;position: relative;}#sk-container-id-7 div.sk-item::before, #sk-container-id-7 div.sk-parallel-item::before {content: \"\";position: absolute;border-left: 1px solid gray;box-sizing: border-box;top: 0;bottom: 0;left: 50%;z-index: -1;}#sk-container-id-7 div.sk-parallel-item {display: flex;flex-direction: column;z-index: 1;position: relative;background-color: white;}#sk-container-id-7 div.sk-parallel-item:first-child::after {align-self: flex-end;width: 50%;}#sk-container-id-7 div.sk-parallel-item:last-child::after {align-self: flex-start;width: 50%;}#sk-container-id-7 div.sk-parallel-item:only-child::after {width: 0;}#sk-container-id-7 div.sk-dashed-wrapped {border: 1px dashed gray;margin: 0 0.4em 0.5em 0.4em;box-sizing: border-box;padding-bottom: 0.4em;background-color: white;}#sk-container-id-7 div.sk-label label {font-family: monospace;font-weight: bold;display: inline-block;line-height: 1.2em;}#sk-container-id-7 div.sk-label-container {text-align: center;}#sk-container-id-7 div.sk-container {/* jupyter's `normalize.less` sets `[hidden] { display: none; }` but bootstrap.min.css set `[hidden] { display: none !important; }` so we also need the `!important` here to be able to override the default hidden behavior on the sphinx rendered scikit-learn.org. See: https://github.com/scikit-learn/scikit-learn/issues/21755 */display: inline-block !important;position: relative;}#sk-container-id-7 div.sk-text-repr-fallback {display: none;}</style><div id=\"sk-container-id-7\" class=\"sk-top-container\"><div class=\"sk-text-repr-fallback\"><pre>XGBClassifier(base_score=None, booster=None, callbacks=None,\n",
       "              colsample_bylevel=None, colsample_bynode=None,\n",
       "              colsample_bytree=None, early_stopping_rounds=None,\n",
       "              enable_categorical=False, eval_metric=None, feature_types=None,\n",
       "              gamma=None, gpu_id=None, grow_policy=None, importance_type=None,\n",
       "              interaction_constraints=None, learning_rate=None, max_bin=None,\n",
       "              max_cat_threshold=None, max_cat_to_onehot=None,\n",
       "              max_delta_step=None, max_depth=None, max_leaves=None,\n",
       "              min_child_weight=None, missing=nan, monotone_constraints=None,\n",
       "              n_estimators=100, n_jobs=None, num_parallel_tree=None,\n",
       "              predictor=None, random_state=42, ...)</pre><b>In a Jupyter environment, please rerun this cell to show the HTML representation or trust the notebook. <br />On GitHub, the HTML representation is unable to render, please try loading this page with nbviewer.org.</b></div><div class=\"sk-container\" hidden><div class=\"sk-item\"><div class=\"sk-estimator sk-toggleable\"><input class=\"sk-toggleable__control sk-hidden--visually\" id=\"sk-estimator-id-7\" type=\"checkbox\" checked><label for=\"sk-estimator-id-7\" class=\"sk-toggleable__label sk-toggleable__label-arrow\">XGBClassifier</label><div class=\"sk-toggleable__content\"><pre>XGBClassifier(base_score=None, booster=None, callbacks=None,\n",
       "              colsample_bylevel=None, colsample_bynode=None,\n",
       "              colsample_bytree=None, early_stopping_rounds=None,\n",
       "              enable_categorical=False, eval_metric=None, feature_types=None,\n",
       "              gamma=None, gpu_id=None, grow_policy=None, importance_type=None,\n",
       "              interaction_constraints=None, learning_rate=None, max_bin=None,\n",
       "              max_cat_threshold=None, max_cat_to_onehot=None,\n",
       "              max_delta_step=None, max_depth=None, max_leaves=None,\n",
       "              min_child_weight=None, missing=nan, monotone_constraints=None,\n",
       "              n_estimators=100, n_jobs=None, num_parallel_tree=None,\n",
       "              predictor=None, random_state=42, ...)</pre></div></div></div></div></div>"
      ],
      "text/plain": [
       "XGBClassifier(base_score=None, booster=None, callbacks=None,\n",
       "              colsample_bylevel=None, colsample_bynode=None,\n",
       "              colsample_bytree=None, early_stopping_rounds=None,\n",
       "              enable_categorical=False, eval_metric=None, feature_types=None,\n",
       "              gamma=None, gpu_id=None, grow_policy=None, importance_type=None,\n",
       "              interaction_constraints=None, learning_rate=None, max_bin=None,\n",
       "              max_cat_threshold=None, max_cat_to_onehot=None,\n",
       "              max_delta_step=None, max_depth=None, max_leaves=None,\n",
       "              min_child_weight=None, missing=nan, monotone_constraints=None,\n",
       "              n_estimators=100, n_jobs=None, num_parallel_tree=None,\n",
       "              predictor=None, random_state=42, ...)"
      ]
     },
     "execution_count": 119,
     "metadata": {},
     "output_type": "execute_result"
    }
   ],
   "source": [
    "from sklearn.model_selection import train_test_split\n",
    "from sklearn.ensemble import RandomForestClassifier\n",
    "from xgboost import XGBClassifier\n",
    "from imblearn.over_sampling import SMOTE\n",
    "\n",
    "# Assuming your dataset is stored in a DataFrame called data\n",
    "\n",
    "# Drop unnecessary columns\n",
    "data = data.drop([\"Transaction_ID\", \"Transaction_Date\", \"Transaction_Time\"], axis=1)\n",
    "\n",
    "# Split the dataset into features (X) and target variable (y)\n",
    "X = data.drop(\"Fraud_Label\", axis=1)\n",
    "y = data[\"Fraud_Label\"]\n",
    "\n",
    "# Apply SMOTE for class imbalance\n",
    "sm = SMOTE(random_state=42)\n",
    "X_res, y_res = sm.fit_resample(X, y)\n",
    "\n",
    "# Split the dataset into training and testing sets\n",
    "X_train, X_test, y_train, y_test = train_test_split(X_res, y_res, test_size=0.2, random_state=42)\n",
    "\n",
    "# Train Random Forest model\n",
    "rf_model = RandomForestClassifier(random_state=42)\n",
    "rf_model.fit(X_train, y_train)\n",
    "\n",
    "# Train XGBoost model\n",
    "xgb_model = XGBClassifier(random_state=42)\n",
    "xgb_model.fit(X_train, y_train)\n"
   ]
  },
  {
   "cell_type": "code",
   "execution_count": 120,
   "metadata": {},
   "outputs": [],
   "source": [
    "def predict_fraud_ensemble(input_data):\n",
    "    # Preprocess input_data\n",
    "    encoded_input = encode_input(input_data, label_encoder, label_encoder, label_encoder)\n",
    "\n",
    "    # Make predictions using both models\n",
    "    rf_pred = rf_model.predict(encoded_input)\n",
    "    xgb_pred = xgb_model.predict(encoded_input)\n",
    "\n",
    "    # Combine predictions (for simplicity, using a voting mechanism)\n",
    "    ensemble_pred = (rf_pred + xgb_pred) // 2\n",
    "\n",
    "    return ensemble_pred\n"
   ]
  },
  {
   "cell_type": "code",
   "execution_count": 3,
   "metadata": {},
   "outputs": [
    {
     "name": "stderr",
     "output_type": "stream",
     "text": [
      "C:\\Users\\Yash\\AppData\\Local\\Temp\\ipykernel_9108\\2635111785.py:14: UserWarning: Could not infer format, so each element will be parsed individually, falling back to `dateutil`. To ensure parsing is consistent and as-expected, please specify a format.\n",
      "  data[\"Hour_of_Day\"] = pd.to_datetime(data[\"Transaction_Time\"]).dt.hour\n"
     ]
    },
    {
     "name": "stdout",
     "output_type": "stream",
     "text": [
      "Accuracy: 1.00\n",
      "Classification Report:\n",
      "              precision    recall  f1-score   support\n",
      "\n",
      "           0       1.00      1.00      1.00         6\n",
      "           1       1.00      1.00      1.00        12\n",
      "\n",
      "    accuracy                           1.00        18\n",
      "   macro avg       1.00      1.00      1.00        18\n",
      "weighted avg       1.00      1.00      1.00        18\n",
      "\n"
     ]
    },
    {
     "ename": "KeyError",
     "evalue": "'Account_Creation_Date'",
     "output_type": "error",
     "traceback": [
      "\u001b[1;31m---------------------------------------------------------------------------\u001b[0m",
      "\u001b[1;31mKeyError\u001b[0m                                  Traceback (most recent call last)",
      "\u001b[1;32mc:\\Users\\Yash\\Desktop\\fraud_detection_project\\machine_learning\\models\\xgboost.ipynb Cell 24\u001b[0m line \u001b[0;36m7\n\u001b[0;32m     <a href='vscode-notebook-cell:/c%3A/Users/Yash/Desktop/fraud_detection_project/machine_learning/models/xgboost.ipynb#X32sZmlsZQ%3D%3D?line=57'>58</a>\u001b[0m new_input \u001b[39m=\u001b[39m {\n\u001b[0;32m     <a href='vscode-notebook-cell:/c%3A/Users/Yash/Desktop/fraud_detection_project/machine_learning/models/xgboost.ipynb#X32sZmlsZQ%3D%3D?line=58'>59</a>\u001b[0m     \u001b[39m'\u001b[39m\u001b[39mTransaction_Amount\u001b[39m\u001b[39m'\u001b[39m: \u001b[39m1250\u001b[39m,\n\u001b[0;32m     <a href='vscode-notebook-cell:/c%3A/Users/Yash/Desktop/fraud_detection_project/machine_learning/models/xgboost.ipynb#X32sZmlsZQ%3D%3D?line=59'>60</a>\u001b[0m     \u001b[39m'\u001b[39m\u001b[39mUser_Account_ID\u001b[39m\u001b[39m'\u001b[39m: \u001b[39m101\u001b[39m,\n\u001b[1;32m   (...)\u001b[0m\n\u001b[0;32m     <a href='vscode-notebook-cell:/c%3A/Users/Yash/Desktop/fraud_detection_project/machine_learning/models/xgboost.ipynb#X32sZmlsZQ%3D%3D?line=69'>70</a>\u001b[0m     \u001b[39m'\u001b[39m\u001b[39mIP_Address_History\u001b[39m\u001b[39m'\u001b[39m: \u001b[39m'\u001b[39m\u001b[39m192.168.1.10\u001b[39m\u001b[39m'\u001b[39m\n\u001b[0;32m     <a href='vscode-notebook-cell:/c%3A/Users/Yash/Desktop/fraud_detection_project/machine_learning/models/xgboost.ipynb#X32sZmlsZQ%3D%3D?line=70'>71</a>\u001b[0m }\n\u001b[0;32m     <a href='vscode-notebook-cell:/c%3A/Users/Yash/Desktop/fraud_detection_project/machine_learning/models/xgboost.ipynb#X32sZmlsZQ%3D%3D?line=72'>73</a>\u001b[0m \u001b[39m# Preprocess input_data\u001b[39;00m\n\u001b[1;32m---> <a href='vscode-notebook-cell:/c%3A/Users/Yash/Desktop/fraud_detection_project/machine_learning/models/xgboost.ipynb#X32sZmlsZQ%3D%3D?line=73'>74</a>\u001b[0m encoded_input \u001b[39m=\u001b[39m label_encoder\u001b[39m.\u001b[39mtransform([new_input[col] \u001b[39mfor\u001b[39;49;00m col \u001b[39min\u001b[39;49;00m X\u001b[39m.\u001b[39;49mcolumns])\n\u001b[0;32m     <a href='vscode-notebook-cell:/c%3A/Users/Yash/Desktop/fraud_detection_project/machine_learning/models/xgboost.ipynb#X32sZmlsZQ%3D%3D?line=74'>75</a>\u001b[0m prediction \u001b[39m=\u001b[39m rf_model\u001b[39m.\u001b[39mpredict([encoded_input])\n\u001b[0;32m     <a href='vscode-notebook-cell:/c%3A/Users/Yash/Desktop/fraud_detection_project/machine_learning/models/xgboost.ipynb#X32sZmlsZQ%3D%3D?line=76'>77</a>\u001b[0m \u001b[39mprint\u001b[39m(\u001b[39mf\u001b[39m\u001b[39m\"\u001b[39m\u001b[39mFraud Prediction: \u001b[39m\u001b[39m{\u001b[39;00mprediction\u001b[39m}\u001b[39;00m\u001b[39m\"\u001b[39m)\n",
      "\u001b[1;32mc:\\Users\\Yash\\Desktop\\fraud_detection_project\\machine_learning\\models\\xgboost.ipynb Cell 24\u001b[0m line \u001b[0;36m7\n\u001b[0;32m     <a href='vscode-notebook-cell:/c%3A/Users/Yash/Desktop/fraud_detection_project/machine_learning/models/xgboost.ipynb#X32sZmlsZQ%3D%3D?line=57'>58</a>\u001b[0m new_input \u001b[39m=\u001b[39m {\n\u001b[0;32m     <a href='vscode-notebook-cell:/c%3A/Users/Yash/Desktop/fraud_detection_project/machine_learning/models/xgboost.ipynb#X32sZmlsZQ%3D%3D?line=58'>59</a>\u001b[0m     \u001b[39m'\u001b[39m\u001b[39mTransaction_Amount\u001b[39m\u001b[39m'\u001b[39m: \u001b[39m1250\u001b[39m,\n\u001b[0;32m     <a href='vscode-notebook-cell:/c%3A/Users/Yash/Desktop/fraud_detection_project/machine_learning/models/xgboost.ipynb#X32sZmlsZQ%3D%3D?line=59'>60</a>\u001b[0m     \u001b[39m'\u001b[39m\u001b[39mUser_Account_ID\u001b[39m\u001b[39m'\u001b[39m: \u001b[39m101\u001b[39m,\n\u001b[1;32m   (...)\u001b[0m\n\u001b[0;32m     <a href='vscode-notebook-cell:/c%3A/Users/Yash/Desktop/fraud_detection_project/machine_learning/models/xgboost.ipynb#X32sZmlsZQ%3D%3D?line=69'>70</a>\u001b[0m     \u001b[39m'\u001b[39m\u001b[39mIP_Address_History\u001b[39m\u001b[39m'\u001b[39m: \u001b[39m'\u001b[39m\u001b[39m192.168.1.10\u001b[39m\u001b[39m'\u001b[39m\n\u001b[0;32m     <a href='vscode-notebook-cell:/c%3A/Users/Yash/Desktop/fraud_detection_project/machine_learning/models/xgboost.ipynb#X32sZmlsZQ%3D%3D?line=70'>71</a>\u001b[0m }\n\u001b[0;32m     <a href='vscode-notebook-cell:/c%3A/Users/Yash/Desktop/fraud_detection_project/machine_learning/models/xgboost.ipynb#X32sZmlsZQ%3D%3D?line=72'>73</a>\u001b[0m \u001b[39m# Preprocess input_data\u001b[39;00m\n\u001b[1;32m---> <a href='vscode-notebook-cell:/c%3A/Users/Yash/Desktop/fraud_detection_project/machine_learning/models/xgboost.ipynb#X32sZmlsZQ%3D%3D?line=73'>74</a>\u001b[0m encoded_input \u001b[39m=\u001b[39m label_encoder\u001b[39m.\u001b[39mtransform([new_input[col] \u001b[39mfor\u001b[39;00m col \u001b[39min\u001b[39;00m X\u001b[39m.\u001b[39mcolumns])\n\u001b[0;32m     <a href='vscode-notebook-cell:/c%3A/Users/Yash/Desktop/fraud_detection_project/machine_learning/models/xgboost.ipynb#X32sZmlsZQ%3D%3D?line=74'>75</a>\u001b[0m prediction \u001b[39m=\u001b[39m rf_model\u001b[39m.\u001b[39mpredict([encoded_input])\n\u001b[0;32m     <a href='vscode-notebook-cell:/c%3A/Users/Yash/Desktop/fraud_detection_project/machine_learning/models/xgboost.ipynb#X32sZmlsZQ%3D%3D?line=76'>77</a>\u001b[0m \u001b[39mprint\u001b[39m(\u001b[39mf\u001b[39m\u001b[39m\"\u001b[39m\u001b[39mFraud Prediction: \u001b[39m\u001b[39m{\u001b[39;00mprediction\u001b[39m}\u001b[39;00m\u001b[39m\"\u001b[39m)\n",
      "\u001b[1;31mKeyError\u001b[0m: 'Account_Creation_Date'"
     ]
    }
   ],
   "source": [
    "import pandas as pd\n",
    "from sklearn.model_selection import train_test_split\n",
    "from sklearn.ensemble import RandomForestClassifier\n",
    "from sklearn.metrics import accuracy_score, classification_report\n",
    "from imblearn.over_sampling import SMOTE\n",
    "from sklearn.preprocessing import LabelEncoder\n",
    "\n",
    "# Load your dataset\n",
    "data = pd.read_csv('../data/transaction_detail.csv')\n",
    "\n",
    "# Convert Transaction_Date and Transaction_Time to datetime\n",
    "data[\"Transaction_Date\"] = pd.to_datetime(data[\"Transaction_Date\"])\n",
    "data[\"Day_of_Week\"] = data[\"Transaction_Date\"].dt.dayofweek\n",
    "data[\"Hour_of_Day\"] = pd.to_datetime(data[\"Transaction_Time\"]).dt.hour\n",
    "\n",
    "# Convert categorical variables into numerical representations using Label Encoding\n",
    "label_encoder = LabelEncoder()\n",
    "\n",
    "object_columns = data.select_dtypes(include='object').columns\n",
    "for col in object_columns:\n",
    "    data[col] = label_encoder.fit_transform(data[col])\n",
    "\n",
    "# Convert date and time columns to numeric format\n",
    "data[\"Transaction_Date\"] = data[\"Transaction_Date\"].dt.strftime(\"%Y%m%d\").astype(int)\n",
    "data[\"Transaction_Time\"] = pd.to_datetime(data[\"Transaction_Time\"]).dt.strftime(\"%H%M%S\").astype(int)\n",
    "\n",
    "# Drop unnecessary columns\n",
    "data = data.drop([\"Transaction_ID\", \"Transaction_Date\", \"Transaction_Time\"], axis=1)\n",
    "\n",
    "# Split the dataset into features (X) and target variable (y)\n",
    "X = data.drop(\"Fraud_Label\", axis=1)\n",
    "y = data[\"Fraud_Label\"]\n",
    "\n",
    "# Apply SMOTE for class imbalance\n",
    "sm = SMOTE(random_state=42)\n",
    "X_res, y_res = sm.fit_resample(X, y)\n",
    "\n",
    "# Split the dataset into training and testing sets\n",
    "X_train, X_test, y_train, y_test = train_test_split(X_res, y_res, test_size=0.2, random_state=42)\n",
    "\n",
    "# Initialize Random Forest Classifier\n",
    "rf_model = RandomForestClassifier(random_state=42)\n",
    "\n",
    "# Train the model on the training set\n",
    "rf_model.fit(X_train, y_train)\n",
    "\n",
    "# Make predictions on the test set\n",
    "y_pred = rf_model.predict(X_test)\n",
    "\n",
    "# Evaluate the model\n",
    "accuracy = accuracy_score(y_test, y_pred)\n",
    "print(f\"Accuracy: {accuracy:.2f}\")\n",
    "\n",
    "print(\"Classification Report:\")\n",
    "print(classification_report(y_test, y_pred))\n",
    "\n",
    "# Now, you can use rf_model to predict whether a new input is fraud or not\n",
    "new_input = {\n",
    "    'Transaction_Amount': 1250,\n",
    "    'User_Account_ID': 101,\n",
    "    'Payment_Method': 'Credit Card',\n",
    "    'Billing_Location': 'Mumbai',\n",
    "    'Shipping_Location': 'Mumbai',\n",
    "    'Device_IP_Address': '192.168.1.10',\n",
    "    'Session_Duration': '600 seconds',\n",
    "    'Frequency_of_Transactions': 5,\n",
    "    'Time_Between_Transactions': '120 seconds',\n",
    "    'Unusual_Time_of_Transaction': 0,\n",
    "    'Unusual_Transaction_Amounts': 0,\n",
    "    'IP_Address_History': '192.168.1.10'\n",
    "}\n",
    "\n",
    "# Preprocess input_data\n",
    "encoded_input = label_encoder.transform([new_input[col] for col in X.columns])\n",
    "prediction = rf_model.predict([encoded_input])\n",
    "\n",
    "print(f\"Fraud Prediction: {prediction}\")\n"
   ]
  },
  {
   "cell_type": "code",
   "execution_count": 5,
   "metadata": {},
   "outputs": [
    {
     "name": "stderr",
     "output_type": "stream",
     "text": [
      "C:\\Users\\Yash\\AppData\\Local\\Temp\\ipykernel_9108\\964858106.py:14: UserWarning: Could not infer format, so each element will be parsed individually, falling back to `dateutil`. To ensure parsing is consistent and as-expected, please specify a format.\n",
      "  data[\"Hour_of_Day\"] = pd.to_datetime(data[\"Transaction_Time\"]).dt.hour\n"
     ]
    },
    {
     "name": "stdout",
     "output_type": "stream",
     "text": [
      "Accuracy: 1.00\n",
      "Classification Report:\n",
      "              precision    recall  f1-score   support\n",
      "\n",
      "           0       1.00      1.00      1.00         6\n",
      "           1       1.00      1.00      1.00        12\n",
      "\n",
      "    accuracy                           1.00        18\n",
      "   macro avg       1.00      1.00      1.00        18\n",
      "weighted avg       1.00      1.00      1.00        18\n",
      "\n"
     ]
    },
    {
     "ename": "KeyError",
     "evalue": "'Transaction_Date'",
     "output_type": "error",
     "traceback": [
      "\u001b[1;31m---------------------------------------------------------------------------\u001b[0m",
      "\u001b[1;31mKeyError\u001b[0m                                  Traceback (most recent call last)",
      "\u001b[1;32mc:\\Users\\Yash\\Desktop\\fraud_detection_project\\machine_learning\\models\\xgboost.ipynb Cell 25\u001b[0m line \u001b[0;36m7\n\u001b[0;32m     <a href='vscode-notebook-cell:/c%3A/Users/Yash/Desktop/fraud_detection_project/machine_learning/models/xgboost.ipynb#X33sZmlsZQ%3D%3D?line=54'>55</a>\u001b[0m new_input \u001b[39m=\u001b[39m {\n\u001b[0;32m     <a href='vscode-notebook-cell:/c%3A/Users/Yash/Desktop/fraud_detection_project/machine_learning/models/xgboost.ipynb#X33sZmlsZQ%3D%3D?line=55'>56</a>\u001b[0m     \u001b[39m'\u001b[39m\u001b[39mTransaction_Amount\u001b[39m\u001b[39m'\u001b[39m: \u001b[39m1250\u001b[39m,\n\u001b[0;32m     <a href='vscode-notebook-cell:/c%3A/Users/Yash/Desktop/fraud_detection_project/machine_learning/models/xgboost.ipynb#X33sZmlsZQ%3D%3D?line=56'>57</a>\u001b[0m     \u001b[39m'\u001b[39m\u001b[39mUser_Account_ID\u001b[39m\u001b[39m'\u001b[39m: \u001b[39m101\u001b[39m,\n\u001b[1;32m   (...)\u001b[0m\n\u001b[0;32m     <a href='vscode-notebook-cell:/c%3A/Users/Yash/Desktop/fraud_detection_project/machine_learning/models/xgboost.ipynb#X33sZmlsZQ%3D%3D?line=67'>68</a>\u001b[0m     \u001b[39m'\u001b[39m\u001b[39mAccount_Creation_Date\u001b[39m\u001b[39m'\u001b[39m: \u001b[39m'\u001b[39m\u001b[39m2022-09-15\u001b[39m\u001b[39m'\u001b[39m\n\u001b[0;32m     <a href='vscode-notebook-cell:/c%3A/Users/Yash/Desktop/fraud_detection_project/machine_learning/models/xgboost.ipynb#X33sZmlsZQ%3D%3D?line=68'>69</a>\u001b[0m }\n\u001b[0;32m     <a href='vscode-notebook-cell:/c%3A/Users/Yash/Desktop/fraud_detection_project/machine_learning/models/xgboost.ipynb#X33sZmlsZQ%3D%3D?line=70'>71</a>\u001b[0m \u001b[39m# Preprocess input_data\u001b[39;00m\n\u001b[1;32m---> <a href='vscode-notebook-cell:/c%3A/Users/Yash/Desktop/fraud_detection_project/machine_learning/models/xgboost.ipynb#X33sZmlsZQ%3D%3D?line=71'>72</a>\u001b[0m encoded_input \u001b[39m=\u001b[39m label_encoder\u001b[39m.\u001b[39mtransform([new_input[col] \u001b[39mfor\u001b[39;49;00m col \u001b[39min\u001b[39;49;00m X\u001b[39m.\u001b[39;49mcolumns])\n\u001b[0;32m     <a href='vscode-notebook-cell:/c%3A/Users/Yash/Desktop/fraud_detection_project/machine_learning/models/xgboost.ipynb#X33sZmlsZQ%3D%3D?line=72'>73</a>\u001b[0m prediction \u001b[39m=\u001b[39m rf_model\u001b[39m.\u001b[39mpredict([encoded_input])\n\u001b[0;32m     <a href='vscode-notebook-cell:/c%3A/Users/Yash/Desktop/fraud_detection_project/machine_learning/models/xgboost.ipynb#X33sZmlsZQ%3D%3D?line=74'>75</a>\u001b[0m \u001b[39mprint\u001b[39m(\u001b[39mf\u001b[39m\u001b[39m\"\u001b[39m\u001b[39mFraud Prediction: \u001b[39m\u001b[39m{\u001b[39;00mprediction\u001b[39m}\u001b[39;00m\u001b[39m\"\u001b[39m)\n",
      "\u001b[1;32mc:\\Users\\Yash\\Desktop\\fraud_detection_project\\machine_learning\\models\\xgboost.ipynb Cell 25\u001b[0m line \u001b[0;36m7\n\u001b[0;32m     <a href='vscode-notebook-cell:/c%3A/Users/Yash/Desktop/fraud_detection_project/machine_learning/models/xgboost.ipynb#X33sZmlsZQ%3D%3D?line=54'>55</a>\u001b[0m new_input \u001b[39m=\u001b[39m {\n\u001b[0;32m     <a href='vscode-notebook-cell:/c%3A/Users/Yash/Desktop/fraud_detection_project/machine_learning/models/xgboost.ipynb#X33sZmlsZQ%3D%3D?line=55'>56</a>\u001b[0m     \u001b[39m'\u001b[39m\u001b[39mTransaction_Amount\u001b[39m\u001b[39m'\u001b[39m: \u001b[39m1250\u001b[39m,\n\u001b[0;32m     <a href='vscode-notebook-cell:/c%3A/Users/Yash/Desktop/fraud_detection_project/machine_learning/models/xgboost.ipynb#X33sZmlsZQ%3D%3D?line=56'>57</a>\u001b[0m     \u001b[39m'\u001b[39m\u001b[39mUser_Account_ID\u001b[39m\u001b[39m'\u001b[39m: \u001b[39m101\u001b[39m,\n\u001b[1;32m   (...)\u001b[0m\n\u001b[0;32m     <a href='vscode-notebook-cell:/c%3A/Users/Yash/Desktop/fraud_detection_project/machine_learning/models/xgboost.ipynb#X33sZmlsZQ%3D%3D?line=67'>68</a>\u001b[0m     \u001b[39m'\u001b[39m\u001b[39mAccount_Creation_Date\u001b[39m\u001b[39m'\u001b[39m: \u001b[39m'\u001b[39m\u001b[39m2022-09-15\u001b[39m\u001b[39m'\u001b[39m\n\u001b[0;32m     <a href='vscode-notebook-cell:/c%3A/Users/Yash/Desktop/fraud_detection_project/machine_learning/models/xgboost.ipynb#X33sZmlsZQ%3D%3D?line=68'>69</a>\u001b[0m }\n\u001b[0;32m     <a href='vscode-notebook-cell:/c%3A/Users/Yash/Desktop/fraud_detection_project/machine_learning/models/xgboost.ipynb#X33sZmlsZQ%3D%3D?line=70'>71</a>\u001b[0m \u001b[39m# Preprocess input_data\u001b[39;00m\n\u001b[1;32m---> <a href='vscode-notebook-cell:/c%3A/Users/Yash/Desktop/fraud_detection_project/machine_learning/models/xgboost.ipynb#X33sZmlsZQ%3D%3D?line=71'>72</a>\u001b[0m encoded_input \u001b[39m=\u001b[39m label_encoder\u001b[39m.\u001b[39mtransform([new_input[col] \u001b[39mfor\u001b[39;00m col \u001b[39min\u001b[39;00m X\u001b[39m.\u001b[39mcolumns])\n\u001b[0;32m     <a href='vscode-notebook-cell:/c%3A/Users/Yash/Desktop/fraud_detection_project/machine_learning/models/xgboost.ipynb#X33sZmlsZQ%3D%3D?line=72'>73</a>\u001b[0m prediction \u001b[39m=\u001b[39m rf_model\u001b[39m.\u001b[39mpredict([encoded_input])\n\u001b[0;32m     <a href='vscode-notebook-cell:/c%3A/Users/Yash/Desktop/fraud_detection_project/machine_learning/models/xgboost.ipynb#X33sZmlsZQ%3D%3D?line=74'>75</a>\u001b[0m \u001b[39mprint\u001b[39m(\u001b[39mf\u001b[39m\u001b[39m\"\u001b[39m\u001b[39mFraud Prediction: \u001b[39m\u001b[39m{\u001b[39;00mprediction\u001b[39m}\u001b[39;00m\u001b[39m\"\u001b[39m)\n",
      "\u001b[1;31mKeyError\u001b[0m: 'Transaction_Date'"
     ]
    }
   ],
   "source": [
    "import pandas as pd\n",
    "from sklearn.model_selection import train_test_split\n",
    "from sklearn.ensemble import RandomForestClassifier\n",
    "from sklearn.metrics import accuracy_score, classification_report\n",
    "from imblearn.over_sampling import SMOTE\n",
    "from sklearn.preprocessing import LabelEncoder\n",
    "\n",
    "# Load your dataset\n",
    "data = pd.read_csv('../data/transaction_detail.csv')\n",
    "\n",
    "# Convert Transaction_Date and Transaction_Time to datetime\n",
    "data[\"Transaction_Date\"] = pd.to_datetime(data[\"Transaction_Date\"])\n",
    "data[\"Day_of_Week\"] = data[\"Transaction_Date\"].dt.dayofweek\n",
    "data[\"Hour_of_Day\"] = pd.to_datetime(data[\"Transaction_Time\"]).dt.hour\n",
    "\n",
    "# Convert categorical variables into numerical representations using Label Encoding\n",
    "label_encoder = LabelEncoder()\n",
    "\n",
    "object_columns = data.select_dtypes(include='object').columns\n",
    "for col in object_columns:\n",
    "    data[col] = label_encoder.fit_transform(data[col])\n",
    "\n",
    "# Convert date and time columns to numeric format\n",
    "data[\"Transaction_Date\"] = data[\"Transaction_Date\"].dt.strftime(\"%Y%m%d\").astype(int)\n",
    "data[\"Transaction_Time\"] = pd.to_datetime(data[\"Transaction_Time\"]).dt.strftime(\"%H%M%S\").astype(int)\n",
    "\n",
    "# Split the dataset into features (X) and target variable (y)\n",
    "X = data.drop([\"Fraud_Label\", \"Transaction_ID\"], axis=1)  # Include 'Account_Creation_Date' here\n",
    "y = data[\"Fraud_Label\"]\n",
    "\n",
    "# Apply SMOTE for class imbalance\n",
    "sm = SMOTE(random_state=42)\n",
    "X_res, y_res = sm.fit_resample(X, y)\n",
    "\n",
    "# Split the dataset into training and testing sets\n",
    "X_train, X_test, y_train, y_test = train_test_split(X_res, y_res, test_size=0.2, random_state=42)\n",
    "\n",
    "# Initialize Random Forest Classifier\n",
    "rf_model = RandomForestClassifier(random_state=42)\n",
    "\n",
    "# Train the model on the training set\n",
    "rf_model.fit(X_train, y_train)\n",
    "\n",
    "# Make predictions on the test set\n",
    "y_pred = rf_model.predict(X_test)\n",
    "\n",
    "# Evaluate the model\n",
    "accuracy = accuracy_score(y_test, y_pred)\n",
    "print(f\"Accuracy: {accuracy:.2f}\")\n",
    "\n",
    "print(\"Classification Report:\")\n",
    "print(classification_report(y_test, y_pred))\n",
    "\n",
    "# Now, you can use rf_model to predict whether a new input is fraud or not\n",
    "new_input = {\n",
    "    'Transaction_Amount': 1250,\n",
    "    'User_Account_ID': 101,\n",
    "    'Payment_Method': 'Credit Card',\n",
    "    'Billing_Location': 'Mumbai',\n",
    "    'Shipping_Location': 'Mumbai',\n",
    "    'Device_IP_Address': '192.168.1.10',\n",
    "    'Session_Duration': '600 seconds',\n",
    "    'Frequency_of_Transactions': 5,\n",
    "    'Time_Between_Transactions': '120 seconds',\n",
    "    'Unusual_Time_of_Transaction': 0,\n",
    "    'Unusual_Transaction_Amounts': 0,\n",
    "    'IP_Address_History': '192.168.1.10',\n",
    "    'Account_Creation_Date': '2022-09-15'\n",
    "}\n",
    "\n",
    "# Preprocess input_data\n",
    "encoded_input = label_encoder.transform([new_input[col] for col in X.columns])\n",
    "prediction = rf_model.predict([encoded_input])\n",
    "\n",
    "print(f\"Fraud Prediction: {prediction}\")\n"
   ]
  },
  {
   "cell_type": "code",
   "execution_count": 7,
   "metadata": {},
   "outputs": [
    {
     "name": "stderr",
     "output_type": "stream",
     "text": [
      "C:\\Users\\Yash\\AppData\\Local\\Temp\\ipykernel_9108\\1918622723.py:14: UserWarning: Could not infer format, so each element will be parsed individually, falling back to `dateutil`. To ensure parsing is consistent and as-expected, please specify a format.\n",
      "  data[\"Hour_of_Day\"] = pd.to_datetime(data[\"Transaction_Time\"]).dt.hour\n"
     ]
    },
    {
     "name": "stdout",
     "output_type": "stream",
     "text": [
      "Accuracy: 1.00\n",
      "Classification Report:\n",
      "              precision    recall  f1-score   support\n",
      "\n",
      "           0       1.00      1.00      1.00         6\n",
      "           1       1.00      1.00      1.00        12\n",
      "\n",
      "    accuracy                           1.00        18\n",
      "   macro avg       1.00      1.00      1.00        18\n",
      "weighted avg       1.00      1.00      1.00        18\n",
      "\n"
     ]
    },
    {
     "ename": "KeyError",
     "evalue": "'Transaction_Date'",
     "output_type": "error",
     "traceback": [
      "\u001b[1;31m---------------------------------------------------------------------------\u001b[0m",
      "\u001b[1;31mKeyError\u001b[0m                                  Traceback (most recent call last)",
      "\u001b[1;32mc:\\Users\\Yash\\Desktop\\fraud_detection_project\\machine_learning\\models\\xgboost.ipynb Cell 26\u001b[0m line \u001b[0;36m7\n\u001b[0;32m     <a href='vscode-notebook-cell:/c%3A/Users/Yash/Desktop/fraud_detection_project/machine_learning/models/xgboost.ipynb#X34sZmlsZQ%3D%3D?line=54'>55</a>\u001b[0m new_input \u001b[39m=\u001b[39m {\n\u001b[0;32m     <a href='vscode-notebook-cell:/c%3A/Users/Yash/Desktop/fraud_detection_project/machine_learning/models/xgboost.ipynb#X34sZmlsZQ%3D%3D?line=55'>56</a>\u001b[0m     \u001b[39m'\u001b[39m\u001b[39mTransaction_Amount\u001b[39m\u001b[39m'\u001b[39m: \u001b[39m1250\u001b[39m,\n\u001b[0;32m     <a href='vscode-notebook-cell:/c%3A/Users/Yash/Desktop/fraud_detection_project/machine_learning/models/xgboost.ipynb#X34sZmlsZQ%3D%3D?line=56'>57</a>\u001b[0m     \u001b[39m'\u001b[39m\u001b[39mUser_Account_ID\u001b[39m\u001b[39m'\u001b[39m: \u001b[39m101\u001b[39m,\n\u001b[1;32m   (...)\u001b[0m\n\u001b[0;32m     <a href='vscode-notebook-cell:/c%3A/Users/Yash/Desktop/fraud_detection_project/machine_learning/models/xgboost.ipynb#X34sZmlsZQ%3D%3D?line=67'>68</a>\u001b[0m     \u001b[39m'\u001b[39m\u001b[39mAccount_Creation_Date\u001b[39m\u001b[39m'\u001b[39m: \u001b[39m'\u001b[39m\u001b[39m2022-09-15\u001b[39m\u001b[39m'\u001b[39m\n\u001b[0;32m     <a href='vscode-notebook-cell:/c%3A/Users/Yash/Desktop/fraud_detection_project/machine_learning/models/xgboost.ipynb#X34sZmlsZQ%3D%3D?line=68'>69</a>\u001b[0m }\n\u001b[0;32m     <a href='vscode-notebook-cell:/c%3A/Users/Yash/Desktop/fraud_detection_project/machine_learning/models/xgboost.ipynb#X34sZmlsZQ%3D%3D?line=70'>71</a>\u001b[0m \u001b[39m# Preprocess input_data\u001b[39;00m\n\u001b[1;32m---> <a href='vscode-notebook-cell:/c%3A/Users/Yash/Desktop/fraud_detection_project/machine_learning/models/xgboost.ipynb#X34sZmlsZQ%3D%3D?line=71'>72</a>\u001b[0m encoded_input \u001b[39m=\u001b[39m label_encoder\u001b[39m.\u001b[39mtransform([new_input[col] \u001b[39mfor\u001b[39;49;00m col \u001b[39min\u001b[39;49;00m X\u001b[39m.\u001b[39;49mcolumns])\n\u001b[0;32m     <a href='vscode-notebook-cell:/c%3A/Users/Yash/Desktop/fraud_detection_project/machine_learning/models/xgboost.ipynb#X34sZmlsZQ%3D%3D?line=72'>73</a>\u001b[0m prediction \u001b[39m=\u001b[39m rf_model\u001b[39m.\u001b[39mpredict([encoded_input])\n\u001b[0;32m     <a href='vscode-notebook-cell:/c%3A/Users/Yash/Desktop/fraud_detection_project/machine_learning/models/xgboost.ipynb#X34sZmlsZQ%3D%3D?line=74'>75</a>\u001b[0m \u001b[39mprint\u001b[39m(\u001b[39mf\u001b[39m\u001b[39m\"\u001b[39m\u001b[39mFraud Prediction: \u001b[39m\u001b[39m{\u001b[39;00mprediction\u001b[39m}\u001b[39;00m\u001b[39m\"\u001b[39m)\n",
      "\u001b[1;32mc:\\Users\\Yash\\Desktop\\fraud_detection_project\\machine_learning\\models\\xgboost.ipynb Cell 26\u001b[0m line \u001b[0;36m7\n\u001b[0;32m     <a href='vscode-notebook-cell:/c%3A/Users/Yash/Desktop/fraud_detection_project/machine_learning/models/xgboost.ipynb#X34sZmlsZQ%3D%3D?line=54'>55</a>\u001b[0m new_input \u001b[39m=\u001b[39m {\n\u001b[0;32m     <a href='vscode-notebook-cell:/c%3A/Users/Yash/Desktop/fraud_detection_project/machine_learning/models/xgboost.ipynb#X34sZmlsZQ%3D%3D?line=55'>56</a>\u001b[0m     \u001b[39m'\u001b[39m\u001b[39mTransaction_Amount\u001b[39m\u001b[39m'\u001b[39m: \u001b[39m1250\u001b[39m,\n\u001b[0;32m     <a href='vscode-notebook-cell:/c%3A/Users/Yash/Desktop/fraud_detection_project/machine_learning/models/xgboost.ipynb#X34sZmlsZQ%3D%3D?line=56'>57</a>\u001b[0m     \u001b[39m'\u001b[39m\u001b[39mUser_Account_ID\u001b[39m\u001b[39m'\u001b[39m: \u001b[39m101\u001b[39m,\n\u001b[1;32m   (...)\u001b[0m\n\u001b[0;32m     <a href='vscode-notebook-cell:/c%3A/Users/Yash/Desktop/fraud_detection_project/machine_learning/models/xgboost.ipynb#X34sZmlsZQ%3D%3D?line=67'>68</a>\u001b[0m     \u001b[39m'\u001b[39m\u001b[39mAccount_Creation_Date\u001b[39m\u001b[39m'\u001b[39m: \u001b[39m'\u001b[39m\u001b[39m2022-09-15\u001b[39m\u001b[39m'\u001b[39m\n\u001b[0;32m     <a href='vscode-notebook-cell:/c%3A/Users/Yash/Desktop/fraud_detection_project/machine_learning/models/xgboost.ipynb#X34sZmlsZQ%3D%3D?line=68'>69</a>\u001b[0m }\n\u001b[0;32m     <a href='vscode-notebook-cell:/c%3A/Users/Yash/Desktop/fraud_detection_project/machine_learning/models/xgboost.ipynb#X34sZmlsZQ%3D%3D?line=70'>71</a>\u001b[0m \u001b[39m# Preprocess input_data\u001b[39;00m\n\u001b[1;32m---> <a href='vscode-notebook-cell:/c%3A/Users/Yash/Desktop/fraud_detection_project/machine_learning/models/xgboost.ipynb#X34sZmlsZQ%3D%3D?line=71'>72</a>\u001b[0m encoded_input \u001b[39m=\u001b[39m label_encoder\u001b[39m.\u001b[39mtransform([new_input[col] \u001b[39mfor\u001b[39;00m col \u001b[39min\u001b[39;00m X\u001b[39m.\u001b[39mcolumns])\n\u001b[0;32m     <a href='vscode-notebook-cell:/c%3A/Users/Yash/Desktop/fraud_detection_project/machine_learning/models/xgboost.ipynb#X34sZmlsZQ%3D%3D?line=72'>73</a>\u001b[0m prediction \u001b[39m=\u001b[39m rf_model\u001b[39m.\u001b[39mpredict([encoded_input])\n\u001b[0;32m     <a href='vscode-notebook-cell:/c%3A/Users/Yash/Desktop/fraud_detection_project/machine_learning/models/xgboost.ipynb#X34sZmlsZQ%3D%3D?line=74'>75</a>\u001b[0m \u001b[39mprint\u001b[39m(\u001b[39mf\u001b[39m\u001b[39m\"\u001b[39m\u001b[39mFraud Prediction: \u001b[39m\u001b[39m{\u001b[39;00mprediction\u001b[39m}\u001b[39;00m\u001b[39m\"\u001b[39m)\n",
      "\u001b[1;31mKeyError\u001b[0m: 'Transaction_Date'"
     ]
    }
   ],
   "source": [
    "import pandas as pd\n",
    "from sklearn.model_selection import train_test_split\n",
    "from sklearn.ensemble import RandomForestClassifier\n",
    "from sklearn.metrics import accuracy_score, classification_report\n",
    "from imblearn.over_sampling import SMOTE\n",
    "from sklearn.preprocessing import LabelEncoder\n",
    "\n",
    "# Load your dataset\n",
    "data = pd.read_csv('../data/transaction_detail.csv')\n",
    "\n",
    "# Convert Transaction_Date and Transaction_Time to datetime\n",
    "data[\"Transaction_Date\"] = pd.to_datetime(data[\"Transaction_Date\"])\n",
    "data[\"Day_of_Week\"] = data[\"Transaction_Date\"].dt.dayofweek\n",
    "data[\"Hour_of_Day\"] = pd.to_datetime(data[\"Transaction_Time\"]).dt.hour\n",
    "\n",
    "# Convert categorical variables into numerical representations using Label Encoding\n",
    "label_encoder = LabelEncoder()\n",
    "\n",
    "object_columns = data.select_dtypes(include='object').columns\n",
    "for col in object_columns:\n",
    "    data[col] = label_encoder.fit_transform(data[col])\n",
    "\n",
    "# Convert date and time columns to numeric format\n",
    "data[\"Transaction_Date\"] = data[\"Transaction_Date\"].dt.strftime(\"%Y%m%d\").astype(int)\n",
    "data[\"Transaction_Time\"] = pd.to_datetime(data[\"Transaction_Time\"]).dt.strftime(\"%H%M%S\").astype(int)\n",
    "\n",
    "# Split the dataset into features (X) and target variable (y)\n",
    "X = data.drop([\"Fraud_Label\", \"Transaction_ID\"], axis=1)  # Ensure correct column names\n",
    "y = data[\"Fraud_Label\"]\n",
    "\n",
    "# Apply SMOTE for class imbalance\n",
    "sm = SMOTE(random_state=42)\n",
    "X_res, y_res = sm.fit_resample(X, y)\n",
    "\n",
    "# Split the dataset into training and testing sets\n",
    "X_train, X_test, y_train, y_test = train_test_split(X_res, y_res, test_size=0.2, random_state=42)\n",
    "\n",
    "# Initialize Random Forest Classifier\n",
    "rf_model = RandomForestClassifier(random_state=42)\n",
    "\n",
    "# Train the model on the training set\n",
    "rf_model.fit(X_train, y_train)\n",
    "\n",
    "# Make predictions on the test set\n",
    "y_pred = rf_model.predict(X_test)\n",
    "\n",
    "# Evaluate the model\n",
    "accuracy = accuracy_score(y_test, y_pred)\n",
    "print(f\"Accuracy: {accuracy:.2f}\")\n",
    "\n",
    "print(\"Classification Report:\")\n",
    "print(classification_report(y_test, y_pred))\n",
    "\n",
    "# Now, you can use rf_model to predict whether a new input is fraud or not\n",
    "new_input = {\n",
    "    'Transaction_Amount': 1250,\n",
    "    'User_Account_ID': 101,\n",
    "    'Payment_Method': 'Credit Card',\n",
    "    'Billing_Location': 'Mumbai',\n",
    "    'Shipping_Location': 'Mumbai',\n",
    "    'Device_IP_Address': '192.168.1.10',\n",
    "    'Session_Duration': '600 seconds',\n",
    "    'Frequency_of_Transactions': 5,\n",
    "    'Time_Between_Transactions': '120 seconds',\n",
    "    'Unusual_Time_of_Transaction': 0,\n",
    "    'Unusual_Transaction_Amounts': 0,\n",
    "    'IP_Address_History': '192.168.1.10',\n",
    "    'Account_Creation_Date': '2022-09-15'\n",
    "}\n",
    "\n",
    "# Preprocess input_data\n",
    "encoded_input = label_encoder.transform([new_input[col] for col in X.columns])\n",
    "prediction = rf_model.predict([encoded_input])\n",
    "\n",
    "print(f\"Fraud Prediction: {prediction}\")\n"
   ]
  },
  {
   "cell_type": "code",
   "execution_count": null,
   "metadata": {},
   "outputs": [],
   "source": []
  }
 ],
 "metadata": {
  "kernelspec": {
   "display_name": "Python 3",
   "language": "python",
   "name": "python3"
  },
  "language_info": {
   "codemirror_mode": {
    "name": "ipython",
    "version": 3
   },
   "file_extension": ".py",
   "mimetype": "text/x-python",
   "name": "python",
   "nbconvert_exporter": "python",
   "pygments_lexer": "ipython3",
   "version": "3.11.4"
  }
 },
 "nbformat": 4,
 "nbformat_minor": 2
}
